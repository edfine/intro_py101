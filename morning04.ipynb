{
 "cells": [
  {
   "cell_type": "code",
   "execution_count": null,
   "metadata": {},
   "outputs": [],
   "source": [
    "# Day 4\n",
    "## Agenda:\n",
    "\n",
    "* Object Oriented\n",
    "* Testing, Test-driven Development and "
   ]
  },
  {
   "cell_type": "markdown",
   "metadata": {
    "slideshow": {
     "slide_type": "subslide"
    }
   },
   "source": [
    "## Classes\n",
    "* so far we've looked at built-in types; now we're going to define a new type\n",
    "* class = programmer-defined type"
   ]
  },
  {
   "cell_type": "code",
   "execution_count": null,
   "metadata": {},
   "outputs": [],
   "source": [
    "# simplest class/object we can create\n",
    "class Person():\n",
    "    pass"
   ]
  },
  {
   "cell_type": "code",
   "execution_count": null,
   "metadata": {},
   "outputs": [],
   "source": [
    "# to instantiate, or create an object, you call the\n",
    "# class as if were a function\n",
    "somebody = Person()"
   ]
  },
  {
   "cell_type": "code",
   "execution_count": null,
   "metadata": {},
   "outputs": [],
   "source": [
    "somebody # somebody is an instance of the \n",
    "# Person class"
   ]
  },
  {
   "cell_type": "code",
   "execution_count": null,
   "metadata": {},
   "outputs": [],
   "source": [
    "type(somebody), type(3)"
   ]
  },
  {
   "cell_type": "code",
   "execution_count": null,
   "metadata": {},
   "outputs": [],
   "source": [
    "type(Person), type(int)"
   ]
  },
  {
   "cell_type": "code",
   "execution_count": null,
   "metadata": {
    "slideshow": {
     "slide_type": "subslide"
    }
   },
   "outputs": [],
   "source": [
    "class BankAccount():\n",
    "    # __init__ is like a constructor\n",
    "    # it is used to initialize the object that is created\n",
    "    def __init__(self, name, initial_balance):\n",
    "        self.name = name\n",
    "        self.balance = initial_balance\n",
    "        print('in __init__')\n",
    "        \n",
    "    # all methods (with some exceptions) must have self as a first parameter...\n",
    "    # ...even though you don't pass self when you call the method (Python does)\n",
    "    def deposit(self, amount):\n",
    "        if amount > 0:\n",
    "            self.balance += amount\n",
    "            return self.balance\n",
    "        else:\n",
    "            print(\"can't deposit nonpositive amount!\")\n",
    "\n",
    "    def withdraw(self, amount):\n",
    "        if amount > 0:\n",
    "            if amount <= self.balance:\n",
    "                self.balance -= amount\n",
    "                return self.balance\n",
    "            else:\n",
    "                print(\"can't withdraw\", amount, \"or you would be overdrawn!\")\n",
    "        else:\n",
    "            print(\"can't withdraw nonpositive amount!\")\n"
   ]
  },
  {
   "cell_type": "code",
   "execution_count": null,
   "metadata": {
    "tags": []
   },
   "outputs": [],
   "source": [
    "account1 = BankAccount('Gutzon Borglum', 100)"
   ]
  },
  {
   "cell_type": "code",
   "execution_count": null,
   "metadata": {},
   "outputs": [],
   "source": [
    "# what is account1?\n",
    "account1"
   ]
  },
  {
   "cell_type": "code",
   "execution_count": null,
   "metadata": {
    "tags": []
   },
   "outputs": [],
   "source": [
    "# we can inspect attributes of our newly-created object\n",
    "print(account1.name, account1.balance)"
   ]
  },
  {
   "cell_type": "code",
   "execution_count": null,
   "metadata": {},
   "outputs": [],
   "source": [
    "# we can deposit money\n",
    "account1.deposit(25)"
   ]
  },
  {
   "cell_type": "code",
   "execution_count": null,
   "metadata": {},
   "outputs": [],
   "source": [
    "# we can withdraw money\n",
    "account1.withdraw(5)"
   ]
  },
  {
   "cell_type": "markdown",
   "metadata": {
    "slideshow": {
     "slide_type": "subslide"
    }
   },
   "source": [
    "## Classes: \"magic\" methods\n",
    "* __\\_\\_init\\_\\___ is a special initialization method that is invoked when the object is instantiated\n",
    "* __\\_\\_str\\_\\___ returns a string representation of the object (i.e., for humans), maps to str() function\n",
    "* __\\_\\_repr\\_\\___ returns unambiguous representation of the object which could be fed to Python interpreter to recreate the object, maps to repr() function"
   ]
  },
  {
   "cell_type": "code",
   "execution_count": null,
   "metadata": {},
   "outputs": [],
   "source": [
    "import datetime\n",
    "today = datetime.datetime.now()\n",
    "str(today), repr(today)"
   ]
  },
  {
   "cell_type": "code",
   "execution_count": null,
   "metadata": {},
   "outputs": [],
   "source": [
    "today"
   ]
  },
  {
   "cell_type": "code",
   "execution_count": null,
   "metadata": {},
   "outputs": [],
   "source": [
    "str(today)"
   ]
  },
  {
   "cell_type": "code",
   "execution_count": null,
   "metadata": {},
   "outputs": [],
   "source": [
    "today.__str__()"
   ]
  },
  {
   "cell_type": "markdown",
   "metadata": {
    "slideshow": {
     "slide_type": "subslide"
    }
   },
   "source": [
    "## Let's add __\\_\\_`repr`\\_\\_ and __\\_\\_`str`\\_\\_ to our class"
   ]
  },
  {
   "cell_type": "code",
   "execution_count": null,
   "metadata": {},
   "outputs": [],
   "source": [
    "class BankAccount(object):\n",
    "    def __init__(self, name, initial_balance):\n",
    "        self.name = name\n",
    "        self.balance = initial_balance\n",
    "\n",
    "    '''representation of the object \"feedable\" to Python\n",
    "    interpreter'''\n",
    "    def __repr__(self):\n",
    "        return self.__class__.__name__ + '(' + repr(self.name) \\\n",
    "               + ', ' + repr(self.balance) + ')'\n",
    "\n",
    "    '''string representation of object, for humans\n",
    "    __repr__ is used if __str__ does not exist'''\n",
    "    def __str__(self):\n",
    "        print('in the __str__() function')\n",
    "        return self.name + ' ' + str(self.balance)\n",
    "\n",
    "    def __add__(self, other):\n",
    "        return BankAccount(self.name + ' ' + other.name,\n",
    "                    self.balance + other.balance)\n",
    "    \n",
    "    def deposit(self, amount):\n",
    "        if amount > 0:\n",
    "            self.balance += amount\n",
    "            return self.balance\n",
    "        else:\n",
    "            print(\"can't deposit nonpositive amount!\")\n",
    "\n",
    "    def withdraw(self, amount):\n",
    "        if amount > 0:\n",
    "            if amount <= self.balance:\n",
    "                self.balance -= amount\n",
    "                return self.balance\n",
    "            else:\n",
    "                print(\"can't withdraw\", amount, \"or you would be overdrawn!\")\n",
    "        else:\n",
    "            print(\"can't withdraw nonpositive amount!\")"
   ]
  },
  {
   "cell_type": "code",
   "execution_count": null,
   "metadata": {},
   "outputs": [],
   "source": [
    "account2 = BankAccount('Gutzon Borglum', 100.0)\n",
    "account3 = BankAccount('Marie Curie', 200.0)"
   ]
  },
  {
   "cell_type": "code",
   "execution_count": null,
   "metadata": {},
   "outputs": [],
   "source": [
    "# try repr()\n",
    "repr(account2)\n",
    "#account3 = BankAccount('Gutzon Borglum', 100.0)\n",
    "#print(account3)"
   ]
  },
  {
   "cell_type": "code",
   "execution_count": null,
   "metadata": {
    "tags": []
   },
   "outputs": [],
   "source": [
    "# try str()\n",
    "account2.__str__()"
   ]
  },
  {
   "cell_type": "markdown",
   "metadata": {
    "slideshow": {
     "slide_type": "subslide"
    }
   },
   "source": [
    "## Other \"magic\" methods\n",
    "* __\\_\\_add\\_\\___ = add two objects together\n",
    "* __\\_\\_eq\\_\\___ = implementation of ==\n",
    "* __\\_\\_ne\\_\\___ = implementation of !=\n",
    "* __\\_\\_len\\_\\___ = implementation of len() method\n",
    "* many others!"
   ]
  },
  {
   "cell_type": "markdown",
   "metadata": {
    "slideshow": {
     "slide_type": "subslide"
    }
   },
   "source": [
    "## Lab: Calculator Class\n",
    "* Create a class Calculator which acts like a calculator\n",
    "* Your class should have methods __`add()`__, __`sub()`__, __`mult()`__, __`div()`__, __`pow()`__, and __`log()`__, but you can add more if you wish\n",
    "* Each of the above methods (except __`log()`__) should take 1 or 2 arguments–for 1 argument, e.g., __`add(1)`__, your method should add to the running total. For 2 arguments, your method should act on those 2 arguments to create the new running total\n",
    "  * e.g., __`add(2, 4)`__ should produce 6, and then when followed by __`multiply(5)`__, it should produce 30\n",
    "* All calculations should be stored, and should be accessible to the caller via the __`showcalc()`__ method.\n",
    "* You should also have an __`ac()`__ \"all clear\" method which clears the running total and the list of calculations (i.e., __`showcalc()`__ should produce no output, or \"0.0\" when preceded by __`ac()`__)"
   ]
  },
  {
   "cell_type": "code",
   "execution_count": null,
   "metadata": {},
   "outputs": [],
   "source": [
    "import sys\n",
    "sys.path.append('')\n",
    "from calculator import Calc\n",
    "c = Calc()\n",
    "print(c.add(3, 4))\n",
    "print(c.sub(5))\n",
    "print(c)"
   ]
  },
  {
   "cell_type": "markdown",
   "metadata": {
    "slideshow": {
     "slide_type": "subslide"
    }
   },
   "source": [
    "## Inheritance"
   ]
  },
  {
   "cell_type": "code",
   "execution_count": null,
   "metadata": {},
   "outputs": [],
   "source": [
    "class Word(str):\n",
    "    '''The Word class inherits from the str class.\n",
    "    Which means it gets everything from the str\n",
    "    class plus whatever it defines. So we will\n",
    "    redefine >, <, >=, <= so that a Word is\n",
    "    compared by length, not alphabetically.\n",
    "    '''\n",
    "\n",
    "    def __gt__(self, other):\n",
    "        return len(self) > len(other)\n",
    "    def __lt__(self, other):\n",
    "        return len(self) < len(other)\n",
    "    def __ge__(self, other):\n",
    "        return len(self) >= len(other)\n",
    "    def __le__(self, other):\n",
    "        return len(self) <= len(other)\n",
    "    def __eq__(self, other):\n",
    "        return len(self) == len(other)"
   ]
  },
  {
   "cell_type": "code",
   "execution_count": null,
   "metadata": {},
   "outputs": [],
   "source": [
    "'apple' > 'fig', Word('apple') > Word('fig')"
   ]
  },
  {
   "cell_type": "code",
   "execution_count": null,
   "metadata": {},
   "outputs": [],
   "source": [
    "Word('apple') != Word('fig')"
   ]
  },
  {
   "cell_type": "code",
   "execution_count": null,
   "metadata": {},
   "outputs": [],
   "source": [
    "aaa = Word('apple')\n",
    "aaa.upper()"
   ]
  },
  {
   "cell_type": "code",
   "execution_count": null,
   "metadata": {},
   "outputs": [],
   "source": [
    "class Polygon():\n",
    "    def __init__(self, num_sides):\n",
    "        self.num_sides = num_sides\n",
    "        self.sides = [0 for i in range(num_sides)]\n",
    "\n",
    "    def __repr__(self):\n",
    "        return \", \".join([str(i) for i in self.sides])\n",
    "\n",
    "    def inputSides(self):\n",
    "        self.sides = [float(input(\"Enter side \"+ str(i + 1) + \": \"))\n",
    "                      for i in range(self.num_sides)]\n",
    "\n",
    "    def area(self):\n",
    "        print(\"Can't compute area of unknown polygon!\")\n",
    "        raise ValueError"
   ]
  },
  {
   "cell_type": "code",
   "execution_count": null,
   "metadata": {},
   "outputs": [],
   "source": [
    "class Triangle(Polygon):\n",
    "    def __init__(self):\n",
    "        '''\n",
    "        use super() to call __init__ in base class and\n",
    "        be sure we have 3 sides\n",
    "        '''\n",
    "        super().__init__(3)\n",
    "\n",
    "    def area(self):\n",
    "        import math\n",
    "        a, b, c = self.sides\n",
    "        # 'compute semi-perimeter'\n",
    "        s = sum(self.sides) / 2\n",
    "        # \"compute area using Heron's formula\"\n",
    "        area = math.sqrt((s * (s - a) * (s - b) * (s - c)))\n",
    "        return area"
   ]
  },
  {
   "cell_type": "code",
   "execution_count": null,
   "metadata": {},
   "outputs": [],
   "source": [
    "class Square(Polygon):\n",
    "    def __init__(self):\n",
    "        super().__init__(4)\n",
    "\n",
    "    def inputSides(self):\n",
    "        # 'only need one side length for a square'\n",
    "        s = float(input(\"Enter length of side: \"))\n",
    "        # 'only need to store one side'\n",
    "        self.sides = [s]\n",
    "\n",
    "    def area(self):\n",
    "        return self.sides[0] ** 2"
   ]
  },
  {
   "cell_type": "code",
   "execution_count": null,
   "metadata": {},
   "outputs": [],
   "source": [
    "poly = Polygon(7)"
   ]
  },
  {
   "cell_type": "code",
   "execution_count": null,
   "metadata": {},
   "outputs": [],
   "source": [
    "poly.inputSides()"
   ]
  },
  {
   "cell_type": "code",
   "execution_count": null,
   "metadata": {},
   "outputs": [],
   "source": [
    "poly.sides"
   ]
  },
  {
   "cell_type": "code",
   "execution_count": null,
   "metadata": {},
   "outputs": [],
   "source": [
    "tri = Triangle()"
   ]
  },
  {
   "cell_type": "code",
   "execution_count": null,
   "metadata": {},
   "outputs": [],
   "source": [
    "tri"
   ]
  },
  {
   "cell_type": "code",
   "execution_count": null,
   "metadata": {},
   "outputs": [],
   "source": [
    "tri.inputSides()"
   ]
  },
  {
   "cell_type": "code",
   "execution_count": null,
   "metadata": {},
   "outputs": [],
   "source": [
    "tri.area()"
   ]
  },
  {
   "cell_type": "code",
   "execution_count": null,
   "metadata": {},
   "outputs": [],
   "source": []
  },
  {
   "cell_type": "markdown",
   "metadata": {
    "slideshow": {
     "slide_type": "slide"
    }
   },
   "source": [
    "# Test-Driven Development/Unit Testing/Mocking"
   ]
  },
  {
   "cell_type": "markdown",
   "metadata": {
    "slideshow": {
     "slide_type": "subslide"
    }
   },
   "source": [
    "## Test-Driven Development\n",
    "* not a library or an API, but rather, TDD is a way of developing software\n",
    "* Python includes awesome support for TDD right out of the box\n",
    "* unit testing has been an integral part of Python since version 2.1 (2001)\n",
    "* numerous improvements since then\n",
    "* no excuse for avoiding testing!"
   ]
  },
  {
   "cell_type": "code",
   "execution_count": null,
   "metadata": {
    "slideshow": {
     "slide_type": "subslide"
    }
   },
   "outputs": [],
   "source": [
    "from IPython.display import Image\n",
    "Image('images/TDDflowchart.png')"
   ]
  },
  {
   "cell_type": "markdown",
   "metadata": {
    "slideshow": {
     "slide_type": "subslide"
    }
   },
   "source": [
    "## Unit Testing\n",
    "* the smallest testable parts of an application, called units, are individually and independently scrutinized to ensure they work\n",
    "* your functions/methods/procedures should do ONE thing (and do it well)–testing that thing should be relatively easy to explain\n",
    "* exercise the !$%@!$# out of the unit to be sure it works, especially with corner cases, not just the expected cases\n",
    "* sometimes called \"white box testing\""
   ]
  },
  {
   "cell_type": "markdown",
   "metadata": {
    "slideshow": {
     "slide_type": "subslide"
    }
   },
   "source": [
    "## Integration Testing\n",
    "* unit testing = testing a single unit of code, isolated from other units\n",
    "* integration testing = exercising 2+ units together, with the goal being to check whether these units have been integrated correctly\n",
    " * if any step fails, the integration test fails, but we must investigate (sometimes deeply) to find out where the failure actually occurred\n",
    " * if unit tests don't pass, there is no point in going further with an integration test"
   ]
  },
  {
   "cell_type": "markdown",
   "metadata": {
    "slideshow": {
     "slide_type": "subslide"
    }
   },
   "source": [
    "## TDD is NOT REALLY ABOUT TESTING!\n",
    "* traditionally, unit testing and developer testing are about writing tests to verify the code works…\n",
    "* …whereas main focus of TDD is not about testing\n",
    "* writing a test before the code is implemented changes the way we think when we implement functionality\n",
    " * resulting code is more testable\n",
    " * usually simple, elegant design\n",
    " * easier to read and maintain\n",
    " * why?\n",
    "* so really about writing better code, and we get an automated test suite as a nice side effect"
   ]
  },
  {
   "cell_type": "markdown",
   "metadata": {
    "slideshow": {
     "slide_type": "subslide"
    }
   },
   "source": [
    "## TDD tests\n",
    "* usually require no setup, vs. traditional unit tests\n",
    "* fast to run, since we run them often during development (sometimes called \"micro tests\")\n",
    "* tests that drive the development forward\n",
    "* not necessarily cover all imaginable scenarios\n",
    " * e.g., file processing function might be tested with a file that exists, a file that's unreadable, a file that doesn't exist, but not necessarily with a 1TB file\n",
    "* \"TDD is about writing better, cleaner, more maintainable code, and only incidentally about testing.\""
   ]
  },
  {
   "cell_type": "markdown",
   "metadata": {
    "slideshow": {
     "slide_type": "subslide"
    }
   },
   "source": [
    "## TDD Testing Recap\n",
    "* TDD testing general rules\n",
    " * run fast\n",
    " * standalone\n",
    " * independent\n",
    " * run full test suite before/after coding sessions\n",
    " * write a broken unit test when interrupting your work"
   ]
  },
  {
   "cell_type": "markdown",
   "metadata": {
    "slideshow": {
     "slide_type": "slide"
    }
   },
   "source": [
    "# Unit Testing with PyTest"
   ]
  },
  {
   "cell_type": "markdown",
   "metadata": {
    "slideshow": {
     "slide_type": "subslide"
    }
   },
   "source": [
    "# Unit Testing\n",
    "* the smallest testable parts of an application, called _units_, are individually and independently scrutinized to ensure they work\n",
    "* your functions/methods/procedures should do ONE thing (and do it well)–testing that thing should be relatively easy to explain\n",
    "* exercise the __!#@%@!$#__ out of the unit to be sure it works, especially with corner cases, not just the expected cases\n",
    "* sometimes called \"white box testing\""
   ]
  },
  {
   "cell_type": "markdown",
   "metadata": {
    "slideshow": {
     "slide_type": "subslide"
    }
   },
   "source": [
    "# Unit Testing for DevOps\n",
    "* in the DevOps sphere, we're likely using Python to write scripts\n",
    "  * automate our daily work\n",
    "  * perhaps interacting with other employees to simplify infrastructure management\n",
    "* we're not likely to be writing customer-facing code or code which makes use of classes\n",
    "  * ...so instead of approaching unit testing from an object oriented perspective, we'll simplify and use __`PyTest`__, as well as simple module testing using __\\_\\_main\\_\\___\n",
    "* before we look at such strategies, let's be sure we understand the motivation for testing the first place"
   ]
  },
  {
   "cell_type": "markdown",
   "metadata": {
    "slideshow": {
     "slide_type": "subslide"
    }
   },
   "source": [
    "# Test-Driven Development\n",
    "* TDD is a way of developing software that looks like this..."
   ]
  },
  {
   "cell_type": "markdown",
   "metadata": {
    "slideshow": {
     "slide_type": "subslide"
    }
   },
   "source": [
    "![TDD](TDDflowchart.png)"
   ]
  },
  {
   "cell_type": "markdown",
   "metadata": {
    "slideshow": {
     "slide_type": "subslide"
    }
   },
   "source": [
    "# TDD is NOT REALLY ABOUT TESTING!\n",
    "* traditionally, unit testing is about writing tests to verify the code works…\n",
    "* …whereas main focus of TDD is not about testing\n",
    "* writing a test before the code is implemented changes the way we think when we implement functionality\n",
    " * resulting code is more testable\n",
    " * usually simple, elegant design\n",
    " * easier to read and maintain\n",
    " * why?\n",
    "* so really about writing better code, and we get an automated test suite as a nice side effect"
   ]
  },
  {
   "cell_type": "markdown",
   "metadata": {
    "slideshow": {
     "slide_type": "slide"
    }
   },
   "source": [
    "# Instrumenting our modules to include testing for free"
   ]
  },
  {
   "cell_type": "code",
   "execution_count": null,
   "metadata": {},
   "outputs": [],
   "source": [
    "# This code lives in module.py\n",
    "#\n",
    "# Simple example of a Python module that exports functions\n",
    "# to be used by other modules.\n",
    "# \n",
    "# A possible use case is to package up a bunch of functions\n",
    "# which are often used by your scripts.\n",
    "#\n",
    "# Inside your scripts you presumably have written\n",
    "#\n",
    "# import module\n",
    "#\n",
    "# or\n",
    "#\n",
    "# from module import func\n",
    "\n",
    "def func(x):\n",
    "    return x * 2\n",
    "\n",
    "def dunder_main():\n",
    "    return __name__\n",
    "\n",
    "# What follows is a straightforward testing capability for this\n",
    "# function (or functions). We notice that __name__ is set to\n",
    "# __main__ when we *run* this script, but it's set to the name\n",
    "# of this module when we import this module.\n",
    "\n",
    "if __name__ == '__main__':\n",
    "    # We ran this script, rather than importing it\n",
    "    print('Running unit tests...')\n",
    "    assert func(2) == 4\n",
    "    assert func('two') == 'twotwo'\n",
    "    print('All tests passed!')"
   ]
  },
  {
   "cell_type": "markdown",
   "metadata": {
    "slideshow": {
     "slide_type": "subslide"
    }
   },
   "source": [
    "# Contrast the above behavior with importing the module..."
   ]
  },
  {
   "cell_type": "code",
   "execution_count": null,
   "metadata": {},
   "outputs": [],
   "source": [
    "# importing does not cause the tests to be run\n",
    "import mymodule"
   ]
  },
  {
   "cell_type": "code",
   "execution_count": null,
   "metadata": {},
   "outputs": [],
   "source": [
    "dir()"
   ]
  },
  {
   "cell_type": "code",
   "execution_count": null,
   "metadata": {},
   "outputs": [],
   "source": [
    "# ...but of course we can access function within the module\n",
    "mymodule.func(13)"
   ]
  },
  {
   "cell_type": "code",
   "execution_count": null,
   "metadata": {},
   "outputs": [],
   "source": [
    "mymodule.dunder_main()"
   ]
  },
  {
   "cell_type": "code",
   "execution_count": null,
   "metadata": {},
   "outputs": [],
   "source": [
    "# ! means go to bash\n",
    "!python3 module.py"
   ]
  },
  {
   "cell_type": "markdown",
   "metadata": {
    "slideshow": {
     "slide_type": "subslide"
    }
   },
   "source": [
    "# Exercise: \\_\\_main\\_\\_\n",
    "* create a script similar to __`module.py`__ above that it is intended to be run by you or your colleagues\n",
    "  * that is, make it so that when the script is run directly, no tests are run\n",
    "  * when the script is imported, as a module would be, it runs some diagnostic tests and produces output about those tests"
   ]
  },
  {
   "cell_type": "code",
   "execution_count": null,
   "metadata": {},
   "outputs": [],
   "source": [
    "!cat other.py"
   ]
  },
  {
   "cell_type": "code",
   "execution_count": null,
   "metadata": {},
   "outputs": [],
   "source": [
    "!python3 other.py"
   ]
  },
  {
   "cell_type": "code",
   "execution_count": null,
   "metadata": {},
   "outputs": [],
   "source": [
    "import other"
   ]
  },
  {
   "cell_type": "markdown",
   "metadata": {
    "slideshow": {
     "slide_type": "slide"
    }
   },
   "source": [
    "# __`PyTest`__\n",
    "* simple testing framework for Python code\n",
    "* no boilerplate code needed\n",
    "* outputs detailed info on failing __`assert`__ statements\n",
    "* auto-discovers test modules and functions\n",
    "* use __`sudo pip3 install pytest`__"
   ]
  },
  {
   "cell_type": "markdown",
   "metadata": {},
   "source": [
    "## If we name a file __`test_*.py`__, __`pytest`__ will discover it automatically, and run any tests inside which begin with the name __`test_`__"
   ]
  },
  {
   "cell_type": "code",
   "execution_count": null,
   "metadata": {},
   "outputs": [],
   "source": [
    "# content of test_sample.py\n",
    "def inc(x):\n",
    "    return x + 1\n",
    "\n",
    "def test_answer():\n",
    "    assert inc(3) == 5"
   ]
  },
  {
   "cell_type": "code",
   "execution_count": null,
   "metadata": {},
   "outputs": [],
   "source": [
    "!cat test_sample.py"
   ]
  },
  {
   "cell_type": "code",
   "execution_count": null,
   "metadata": {
    "tags": []
   },
   "outputs": [],
   "source": [
    "!pytest"
   ]
  },
  {
   "cell_type": "markdown",
   "metadata": {},
   "source": [
    "## A more likely scenario would be to have our code in a separate module, and we will import the module in the test file..."
   ]
  },
  {
   "cell_type": "code",
   "execution_count": null,
   "metadata": {
    "tags": []
   },
   "outputs": [],
   "source": [
    "!cat mean.py"
   ]
  },
  {
   "cell_type": "code",
   "execution_count": null,
   "metadata": {},
   "outputs": [],
   "source": [
    "# t_mean.py\n",
    "from mean import mean # import function mean\n",
    "\n",
    "def test_int():\n",
    "    num_list = [1, 2, 3, 4, 5]\n",
    "    assert mean(num_list) == 3\n",
    "\n",
    "def test_zero():\n",
    "    num_list = [0, 2, 4, 6]\n",
    "    obs = mean(num_list)\n",
    "    exp = 3\n",
    "    assert obs == exp\n",
    "\n",
    "def test_double():\n",
    "    num_list = [1, 2, 3, 4]\n",
    "    obs = mean(num_list)\n",
    "    exp = 2.5\n",
    "    assert obs == exp\n",
    "\n",
    "def test_long():\n",
    "    big = 100_000_000 # Python 3.6-ism\n",
    "    obs = mean(range(1, big))\n",
    "    exp = big/2.0\n",
    "    assert obs == exp\n",
    "\n",
    "def test_complex():\n",
    "    # given that complex numbers are an unordered field\n",
    "    # the arithmetic mean of complex numbers is meaningless\n",
    "    num_list = [2 + 3j,  3 + 4j,  -32 - 2j]\n",
    "    obs = mean(num_list)\n",
    "    exp = -9+1.6666666666666667j\n",
    "    assert obs == exp"
   ]
  },
  {
   "cell_type": "code",
   "execution_count": null,
   "metadata": {
    "tags": []
   },
   "outputs": [],
   "source": [
    "%%bash\n",
    "mv t_mean.py test_mean.py\n",
    "pytest\n",
    "mv test_mean.py t_mean.py"
   ]
  },
  {
   "cell_type": "markdown",
   "metadata": {},
   "source": [
    "# Lab\n",
    "* if you have an existing module with some functions in it, add a test_* version of it with a few tests in it\n",
    "* if not, create a file with a couple of functions and a separate test file"
   ]
  },
  {
   "cell_type": "markdown",
   "metadata": {},
   "source": [
    "# Optional as time allows"
   ]
  },
  {
   "cell_type": "markdown",
   "metadata": {
    "slideshow": {
     "slide_type": "subslide"
    }
   },
   "source": [
    "## A Sample Class"
   ]
  },
  {
   "cell_type": "code",
   "execution_count": null,
   "metadata": {},
   "outputs": [],
   "source": [
    "class FunnyList(list):\n",
    "    def __init__(self, item):\n",
    "        \"\"\"Allows us to create a FunnyList not only from a list,\n",
    "           but ALSO from a single element\n",
    "        \"\"\"\n",
    "        if isinstance(item, list):\n",
    "            return super().__init__(item)\n",
    "        else:\n",
    "            return super().__init__([item])\n",
    "    \n",
    "    def __eq__(self, other):\n",
    "        \"\"\"Check for equality without concern for order.\n",
    "           If the sorted versions of two FunnyLists are the\n",
    "           same, then we deem the FunnyLists to be the same.\n",
    "        \"\"\"\n",
    "        return sorted(self) == sorted(other)\n",
    "\n",
    "    def __ne__(self, other):\n",
    "        return sorted(self) != sorted(other)\n",
    "\n",
    "    def __add__(self, thing):\n",
    "        \"\"\"Add to a FunnyList. Distinguish between adding a\n",
    "           list/FunnyList, and something else.\n",
    "        \"\"\"\n",
    "        if not isinstance(thing, list):\n",
    "            return FunnyList(super().__add__([thing]))\n",
    "\n",
    "        return FunnyList(super().__add__(thing))\n",
    "    \n",
    "    def __iadd__(self, thing):\n",
    "        \"\"\"Same as above except this is += instead of +.\"\"\"\n",
    "        if issubclass(thing.__class__, list):\n",
    "            return self + thing\n",
    "        else:\n",
    "            return self + [thing]"
   ]
  },
  {
   "cell_type": "code",
   "execution_count": null,
   "metadata": {},
   "outputs": [],
   "source": [
    "fl = FunnyList([1, 2])\n",
    "fl += 3\n",
    "fl, type(fl)"
   ]
  },
  {
   "cell_type": "code",
   "execution_count": null,
   "metadata": {},
   "outputs": [],
   "source": [
    "fl1 = FunnyList([1, 2, 3])\n",
    "fl2 = FunnyList([3, 2, 1])\n",
    "fl1 == fl2"
   ]
  },
  {
   "cell_type": "code",
   "execution_count": null,
   "metadata": {},
   "outputs": [],
   "source": [
    "f1 = FunnyList([1, 2, 3])\n",
    "f2 = FunnyList(4)\n",
    "f1 + f2"
   ]
  },
  {
   "cell_type": "code",
   "execution_count": null,
   "metadata": {},
   "outputs": [],
   "source": [
    "l1 = [1, 2, 3]\n",
    "l2 = [4, 5, 6]\n",
    "l1 + l2"
   ]
  },
  {
   "cell_type": "code",
   "execution_count": null,
   "metadata": {},
   "outputs": [],
   "source": [
    "f1 + 5"
   ]
  },
  {
   "cell_type": "code",
   "execution_count": null,
   "metadata": {},
   "outputs": [],
   "source": [
    "f1 = FunnyList(['list1'])\n",
    "f2 = FunnyList(2)\n",
    "f1, f2"
   ]
  },
  {
   "cell_type": "code",
   "execution_count": null,
   "metadata": {
    "scrolled": true
   },
   "outputs": [],
   "source": [
    "l1 + [5]"
   ]
  },
  {
   "cell_type": "markdown",
   "metadata": {
    "slideshow": {
     "slide_type": "subslide"
    }
   },
   "source": [
    "## Testing our sample class"
   ]
  },
  {
   "cell_type": "code",
   "execution_count": null,
   "metadata": {},
   "outputs": [],
   "source": [
    "!cat funnylist3.py"
   ]
  },
  {
   "cell_type": "code",
   "execution_count": null,
   "metadata": {},
   "outputs": [],
   "source": [
    "from funnylist3 import FunnyList\n",
    "import unittest # Python's unit test module\n",
    "\n",
    "class TestFunnyList(unittest.TestCase):\n",
    "    def setUp(self):\n",
    "        self.list1 = [1, 2, 3] # Python list\n",
    "        self.list2 = [3, 2, 1]\n",
    "        self.sclist = sorted(self.list1 + self.list2)\n",
    "        self.fl1 = FunnyList(self.list1)\n",
    "        self.fl2 = FunnyList(self.list2)\n",
    "    \n",
    "#     def test_init(self):\n",
    "#         self.assertEqual(self.fl1, self.list1) # should be same\n",
    "#         self.assertEqual(self.fl2, self.list2) # should be same\n",
    "        \n",
    "    def test_equal(self):\n",
    "        self.assertTrue(self.fl1 == self.fl2)\n",
    "\n",
    "#     def test_add_two(self):\n",
    "#         self.fl3 = self.fl1 + self.fl2\n",
    "#         self.assertEqual(sorted(self.fl3), self.sclist)\n",
    "\n",
    "#     def test_plus_equals_list(self):\n",
    "#         self.fl3 = self.fl1 + self.fl2\n",
    "#         self.fl1 += self.fl2\n",
    "#         self.assertEqual(self.fl3, self.fl1)\n",
    "   \n",
    "    def test_plus_obj(self):\n",
    "        self.list1.append(4)\n",
    "        self.fl1 = self.fl1 + 4\n",
    "        self.assertEqual(self.list1, self.fl1)\n",
    "\n",
    "#     def test_plus_equals_obj(self):\n",
    "#         self.list1.append(4)\n",
    "#         self.fl1 += 4\n",
    "#         self.assertEqual(self.list1, self.fl1)\n",
    "        \n",
    "'''command line run\n",
    "if __name__ == '__main__':\n",
    "    unittest.main()\n",
    "'''\n",
    "\n",
    "'''Jupyter run'''\n",
    "suite = unittest.TestLoader().loadTestsFromTestCase(TestFunnyList)\n",
    "unittest.TextTestRunner().run(suite)\n"
   ]
  },
  {
   "cell_type": "code",
   "execution_count": null,
   "metadata": {
    "scrolled": true
   },
   "outputs": [],
   "source": [
    "!cat testfunnylist.py"
   ]
  },
  {
   "cell_type": "code",
   "execution_count": null,
   "metadata": {},
   "outputs": [],
   "source": [
    "!python3 testfunnylist.py"
   ]
  },
  {
   "cell_type": "markdown",
   "metadata": {
    "slideshow": {
     "slide_type": "subslide"
    }
   },
   "source": [
    "## Test Coverage\n",
    "* before we hand off our code, we want to be sure all tests are passing\n",
    "* ...and we have 100% coverage"
   ]
  },
  {
   "cell_type": "code",
   "execution_count": null,
   "metadata": {},
   "outputs": [],
   "source": [
    "%%bash\n",
    "coverage run testfunnylist.py"
   ]
  },
  {
   "cell_type": "code",
   "execution_count": null,
   "metadata": {},
   "outputs": [],
   "source": [
    "%%bash\n",
    "coverage report -m"
   ]
  },
  {
   "cell_type": "code",
   "execution_count": null,
   "metadata": {},
   "outputs": [],
   "source": [
    "!cat -n funnylist.py"
   ]
  },
  {
   "cell_type": "markdown",
   "metadata": {
    "slideshow": {
     "slide_type": "subslide"
    }
   },
   "source": [
    "## Dirty Services\n",
    "* often, our code interacts with \"dirty\" services, i.e., those which have undesirable side effects\n",
    " * inserting into database\n",
    " * posting on the web\n",
    " * system calls / interact with OS\n",
    "* …as a developer, you care more that your code correctly called the system function for ejecting a CD rather than experiencing the CD tray open every time a test is run"
   ]
  },
  {
   "cell_type": "markdown",
   "metadata": {
    "slideshow": {
     "slide_type": "subslide"
    }
   },
   "source": [
    "## Mocking\n",
    "* to deal with these kinds of services, we can use the __`mock`__ subpackage of the __`unitttest`__ library\n",
    "* included as of Python 3.3…before that you need to download it via PyPI\n",
    "* a mock object is one that is substituted for a real object in a test case\n",
    "* unlike ordinary unit tests that assert on the state of an object, mock objects are used to test that interactions between multiple objects occurs as they should\n",
    "* writing test cases with mocks make our tests smarter, faster, and able to reveal more about how the software actually works"
   ]
  },
  {
   "cell_type": "markdown",
   "metadata": {
    "slideshow": {
     "slide_type": "subslide"
    }
   },
   "source": [
    "## Road to Mocking\n",
    "* let's consider a simple function to remove a file"
   ]
  },
  {
   "cell_type": "code",
   "execution_count": null,
   "metadata": {},
   "outputs": [],
   "source": [
    "# rm.py\n",
    "import os\n",
    "\n",
    "def rm(filename):\n",
    "    os.remove(filename)"
   ]
  },
  {
   "cell_type": "markdown",
   "metadata": {},
   "source": [
    "1. first we'll write a test that creates a file and ensures our function removes it\n",
    "2. then we'll create our own mock function to demonstrate mocking and explain how it works \"under the hood\"\n",
    "3. finally, we'll use unitest.mock"
   ]
  },
  {
   "cell_type": "markdown",
   "metadata": {
    "slideshow": {
     "slide_type": "subslide"
    }
   },
   "source": [
    "## Testing our simple `rm` function"
   ]
  },
  {
   "cell_type": "code",
   "execution_count": null,
   "metadata": {
    "scrolled": true
   },
   "outputs": [],
   "source": [
    "from rm import rm\n",
    "import os.path\n",
    "import tempfile\n",
    "import unittest\n",
    "\n",
    "class RmTestCase(unittest.TestCase):\n",
    "    def setUp(self):\n",
    "        self.tmpfilepath = os.path.join(tempfile.gettempdir(), \"tmp-testfile\")\n",
    "        with open(self.tmpfilepath, \"w\") as f:\n",
    "            f.write(\"Delete me!\")\n",
    "        \n",
    "    def test_rm(self):\n",
    "        # remove the file\n",
    "        rm(self.tmpfilepath)\n",
    "        # test that it was actually removed\n",
    "        self.assertFalse(os.path.isfile(self.tmpfilepath),\n",
    "                         \"Failed to remove the file.\")\n",
    "\n",
    "'''\n",
    "if __name__ == '__main__':\n",
    "    unittest.main()\n",
    "'''\n",
    "\n",
    "'''IPython run'''\n",
    "suite = unittest.TestLoader().loadTestsFromTestCase(RmTestCase)\n",
    "unittest.TextTestRunner().run(suite)"
   ]
  },
  {
   "cell_type": "markdown",
   "metadata": {
    "slideshow": {
     "slide_type": "subslide"
    }
   },
   "source": [
    "## Let's create our own mock object"
   ]
  },
  {
   "cell_type": "code",
   "execution_count": null,
   "metadata": {},
   "outputs": [],
   "source": [
    "class Mock(object):\n",
    "    def __init__(self, retval=None):\n",
    "        self.called = False # have we been called?\n",
    "        self.params = ()    # what params were sent to us?\n",
    "        self.retval = retval\n",
    "        \n",
    "    '''__call__() is a magic method that allows the object to\n",
    "    called like a function'''\n",
    "    def __call__(self, *args, **kwargs):\n",
    "        self.called = True\n",
    "        self.params = (args, kwargs)\n",
    "        return self.retval"
   ]
  },
  {
   "cell_type": "code",
   "execution_count": null,
   "metadata": {},
   "outputs": [],
   "source": [
    "# from mymock import Mock\n",
    "m = Mock(593) # creates a Mock object, retval = 593\n",
    "m.called, m.retval, m.params"
   ]
  },
  {
   "cell_type": "code",
   "execution_count": null,
   "metadata": {},
   "outputs": [],
   "source": [
    "m('posparam1', 'posparam2', 'foo', x=5, Debug=True) # call the mock object like a function"
   ]
  },
  {
   "cell_type": "code",
   "execution_count": null,
   "metadata": {},
   "outputs": [],
   "source": [
    "m.called"
   ]
  },
  {
   "cell_type": "code",
   "execution_count": null,
   "metadata": {},
   "outputs": [],
   "source": [
    "m.params"
   ]
  },
  {
   "cell_type": "markdown",
   "metadata": {
    "slideshow": {
     "slide_type": "subslide"
    }
   },
   "source": [
    "## Using our mock object to avoid actually removing anything!"
   ]
  },
  {
   "cell_type": "code",
   "execution_count": null,
   "metadata": {},
   "outputs": [],
   "source": [
    "import unittest\n",
    "from mymock import Mock\n",
    "\n",
    "rm = Mock() # makes it so when I call rm,\n",
    "            # I'm actually calling the mock\n",
    "\n",
    "class RmTestCase(unittest.TestCase):\n",
    "    def setUp(self):\n",
    "        pass # no longer have to create a file\n",
    "    \n",
    "    def test_rm(self):\n",
    "        rm('tempfile') # call mocked rm\n",
    "        self.assertTrue(rm.called == True)\n",
    "        print('rm.params =', rm.params)\n",
    "        self.assertTrue(rm.params[0][0] == 'tempfile')\n",
    "\n",
    "# unittest.main()\n",
    "suite = unittest.TestLoader().loadTestsFromTestCase(RmTestCase)\n",
    "unittest.TextTestRunner().run(suite)"
   ]
  },
  {
   "cell_type": "markdown",
   "metadata": {
    "slideshow": {
     "slide_type": "subslide"
    }
   },
   "source": [
    "## Using unittest.mock"
   ]
  },
  {
   "cell_type": "code",
   "execution_count": null,
   "metadata": {
    "scrolled": true,
    "slideshow": {
     "slide_type": "-"
    }
   },
   "outputs": [],
   "source": [
    "from rm import rm # my rm function\n",
    "from unittest import mock\n",
    "import unittest\n",
    "\n",
    "class RmTestCase(unittest.TestCase):\n",
    "    # The @mock.patch decorator results in the target imported\n",
    "    # and the specified object is replaced with a new mock object\n",
    "    # ...and passed as an argument to the decorated function.\n",
    "    \n",
    "    # Note that we must patch rm where it is used (rm.os), not\n",
    "    # where it's from. So we will be creating a mock for the os\n",
    "    # module inside the rm module, and the created mock is passed\n",
    "    # to the decorated function.\n",
    "    # test_rm = mock.patch(test_rm, mocked_object)\n",
    "    @mock.patch('rm.os')\n",
    "    def test_rm(self, mock_os):\n",
    "        rm('foo')\n",
    "        # test that rm called os.remove with the right parameters\n",
    "        mock_os.remove.assert_called_with('foo')\n",
    "\n",
    "# unittest.main()\n",
    "suite = unittest.TestLoader().loadTestsFromTestCase(RmTestCase)\n",
    "unittest.TextTestRunner().run(suite)"
   ]
  },
  {
   "cell_type": "markdown",
   "metadata": {
    "slideshow": {
     "slide_type": "subslide"
    }
   },
   "source": [
    "## Let's make `rm` a little smarter"
   ]
  },
  {
   "cell_type": "code",
   "execution_count": null,
   "metadata": {},
   "outputs": [],
   "source": [
    "# rm2.py\n",
    "import os\n",
    "import os.path\n",
    "\n",
    "def rm(filename):\n",
    "    if os.path.isfile(filename):\n",
    "        os.remove(filename)"
   ]
  },
  {
   "cell_type": "code",
   "execution_count": null,
   "metadata": {},
   "outputs": [],
   "source": [
    "from rm2 import rm\n",
    "from unittest import mock\n",
    "import unittest\n",
    "\n",
    "class RmTestCase(unittest.TestCase):\n",
    "    # test_rm = mock.patch(mock.patch(test_rm, mock for 'rm2.os'), mock for 'rm2.os.path')\n",
    "    @mock.patch('rm2.os.path')\n",
    "    @mock.patch('rm2.os')\n",
    "    def test_rm(self, mock_os, mock_path):\n",
    "        mock_path.isfile.return_value = False\n",
    "        \n",
    "        rm('any path')\n",
    "        \n",
    "        self.assertFalse(mock_os.remove.called, ''' \n",
    "                Tried to remove when file not present.''')\n",
    "        # make the file 'exist'\n",
    "        mock_path.isfile.return_value = True\n",
    "        \n",
    "        rm('any path')\n",
    "        mock_os.remove.assert_called_with('any path')\n",
    "\n",
    "# unittest.main()\n",
    "suite = unittest.TestLoader().loadTestsFromTestCase(RmTestCase)\n",
    "unittest.TextTestRunner().run(suite)"
   ]
  },
  {
   "cell_type": "markdown",
   "metadata": {
    "slideshow": {
     "slide_type": "subslide"
    }
   },
   "source": [
    "## What about mocks for objects?"
   ]
  },
  {
   "cell_type": "code",
   "execution_count": null,
   "metadata": {},
   "outputs": [],
   "source": [
    "import os\n",
    "import os.path\n",
    "\n",
    "class RemovalService():\n",
    "    '''A service for removing objects from the filesystem'''\n",
    "\n",
    "    def rm(self, filename):\n",
    "        if os.path.isfile(filename):\n",
    "            os.remove(filename)\n",
    "            \n",
    "class UploadService():\n",
    "    '''Upload a file and remove it once the upload is complete'''\n",
    "    \n",
    "    def __init__(self, removal_service):\n",
    "        self.removal_service = removal_service\n",
    "        \n",
    "    def upload_complete(self, filename):\n",
    "        self.removal_service.rm(filename)"
   ]
  },
  {
   "cell_type": "markdown",
   "metadata": {
    "slideshow": {
     "slide_type": "subslide"
    }
   },
   "source": [
    "## ...now we have a file removal service and an upload service that depends on it\n",
    "* how do we test __`UploadService`__?\n",
    " 1. either mock out the __`RemovalService.rm`__ method itself\n",
    " 2. OR supply a mocked instance in the constructor of __`UploadService`__"
   ]
  },
  {
   "cell_type": "markdown",
   "metadata": {},
   "source": [
    "## Option 1: mock out method itself using `@mock.patch.object`"
   ]
  },
  {
   "cell_type": "code",
   "execution_count": null,
   "metadata": {},
   "outputs": [],
   "source": [
    "from services import RemovalService, UploadService\n",
    "from unittest import mock\n",
    "import unittest\n",
    "\n",
    "class UploadServiceTestCase(unittest.TestCase):\n",
    "    # mock out \n",
    "    @mock.patch.object(RemovalService, 'rm')\n",
    "    def test_upload_complete(self, mock_rm):\n",
    "        # when we create a RemovalService object...\n",
    "        # ...the rm method will automatically be mocked\n",
    "        removal_service = RemovalService()\n",
    "\n",
    "        ref = UploadService(removal_service)\n",
    "\n",
    "        # call upload_complete, which should, in turn, call `rm`:\n",
    "        ref.upload_complete(\"my uploaded file\")\n",
    "        \n",
    "        # check that it called the rm method of any RemovalService\n",
    "        #mock_rm.assert_called_with(\"my uploaded file\")\n",
    "        \n",
    "        # check that it called the rm method of _our_ removal_service\n",
    "        removal_service.rm.assert_called_with(\"my uploaded file\")\n",
    "\n",
    "# unittest.main()\n",
    "suite = unittest.TestLoader().loadTestsFromTestCase(UploadServiceTestCase)\n",
    "unittest.TextTestRunner().run(suite)"
   ]
  },
  {
   "cell_type": "markdown",
   "metadata": {
    "slideshow": {
     "slide_type": "subslide"
    }
   },
   "source": [
    "## Option 2: supply a mocked instance to UploadService"
   ]
  },
  {
   "cell_type": "code",
   "execution_count": null,
   "metadata": {},
   "outputs": [],
   "source": [
    "from services import RemovalService, UploadService\n",
    "from unittest import mock\n",
    "import unittest\n",
    "\n",
    "class UploadServiceTestCase(unittest.TestCase):\n",
    "    def test_upload_complete(self):\n",
    "        # build our dependencies\n",
    "        mock_removal_service = mock.create_autospec(RemovalService)\n",
    "        ref = UploadService(mock_removal_service)\n",
    "        \n",
    "        # call upload_complete, which should, in turn, call `rm`:\n",
    "        ref.upload_complete(\"my uploaded file\")\n",
    "        \n",
    "        # test that it called the rm method\n",
    "        mock_removal_service.rm.assert_called_with(\"my uploaded file\")\n",
    "\n",
    "#unittest.main()\n",
    "suite = unittest.TestLoader().loadTestsFromTestCase(UploadServiceTestCase)\n",
    "unittest.TextTestRunner().run(suite)"
   ]
  },
  {
   "cell_type": "markdown",
   "metadata": {
    "slideshow": {
     "slide_type": "subslide"
    }
   },
   "source": [
    "## autospec"
   ]
  },
  {
   "cell_type": "code",
   "execution_count": null,
   "metadata": {},
   "outputs": [],
   "source": [
    "from unittest.mock import Mock\n",
    "\n",
    "def function(a, b, c):\n",
    "    # ...\n",
    "    return \"foo\"\n",
    "\n",
    "mockfunc = Mock()\n",
    "mockfunc(1, 2, 3)"
   ]
  },
  {
   "cell_type": "code",
   "execution_count": null,
   "metadata": {},
   "outputs": [],
   "source": [
    "mockfunc.called"
   ]
  },
  {
   "cell_type": "code",
   "execution_count": null,
   "metadata": {},
   "outputs": [],
   "source": [
    "mockfunc.call_args"
   ]
  },
  {
   "cell_type": "code",
   "execution_count": null,
   "metadata": {},
   "outputs": [],
   "source": [
    "# ...but we need not call the function with the correct number of args\n",
    "mockfunc(1)\n",
    "mockfunc.call_args"
   ]
  },
  {
   "cell_type": "code",
   "execution_count": null,
   "metadata": {},
   "outputs": [],
   "source": [
    "from unittest.mock import create_autospec\n",
    "mockfunc = create_autospec(function, return_value='foo')\n",
    "mockfunc(1, 2, 3)"
   ]
  },
  {
   "cell_type": "markdown",
   "metadata": {
    "slideshow": {
     "slide_type": "subslide"
    }
   },
   "source": [
    "## Lab: Unittest/Mocking\n",
    "1. Write at least two unit tests for the Word class in Notebook 02.\n",
    "2. Write a method which interacts with a not-yet-implemented library function named foo(), which takes exactly 2 arguments and returns the sum of those arguments. Use an autospec-ed mock in place of foo().\n",
    "2. Using the examples as a template, create a method which changes the permissions (__`os.chmod()`__) on a file, and use mocks to avoid actually changing a file's permissions"
   ]
  },
  {
   "cell_type": "code",
   "execution_count": null,
   "metadata": {},
   "outputs": [],
   "source": []
  },
  {
   "cell_type": "markdown",
   "metadata": {},
   "source": [
    "# APIs"
   ]
  },
  {
   "cell_type": "markdown",
   "metadata": {},
   "source": [
    "We will first take a brief detour into building web frameworks with Flask.  \n",
    "You will need to install Flask.  \n",
    "Learning Flask is easier and faster than many other web frameworks. It's super easy to setup and get things running. Unlike the more common python web framework Django (which is heavier), you'll have less setup and never have functionality lying around that you aren't using.\n",
    "\n",
    "\n",
    "\n",
    "Hello World\n",
    "#\n",
    "Create hello.py"
   ]
  },
  {
   "cell_type": "code",
   "execution_count": null,
   "metadata": {},
   "outputs": [],
   "source": [
    "from flask import Flask\n",
    "\n",
    "app = Flask(__name__)\n",
    "\n",
    "\n",
    "@app.route('/')\n",
    "def hello():\n",
    "    return 'Hello, World!'"
   ]
  },
  {
   "cell_type": "markdown",
   "metadata": {},
   "source": [
    "Then run it at the terminal with:"
   ]
  },
  {
   "cell_type": "code",
   "execution_count": null,
   "metadata": {},
   "outputs": [],
   "source": [
    "export FLASK_APP=hello.py\n",
    "flask run"
   ]
  },
  {
   "cell_type": "markdown",
   "metadata": {},
   "source": [
    "### Defining the test\n",
    "\n",
    "Along side our hello.py, we define a test module called test_hello.py that is going to be discovered by py.test"
   ]
  },
  {
   "cell_type": "code",
   "execution_count": null,
   "metadata": {},
   "outputs": [],
   "source": [
    "# test_hello.py\n",
    "from hello import app\n",
    "\n",
    "def test_hello():\n",
    "    response = app.test_client().get('/')\n",
    "\n",
    "    assert response.status_code == 200\n",
    "    assert response.data == b'Hello, World!'"
   ]
  },
  {
   "cell_type": "markdown",
   "metadata": {},
   "source": [
    "Below is an API that takes a JSON input with integer values a and b e.g. {\"a\": 1, \"b\": 2}, adds them up and returns sum a + b in a JSON response e.g. {\"sum\": 3}."
   ]
  },
  {
   "cell_type": "code",
   "execution_count": null,
   "metadata": {},
   "outputs": [],
   "source": [
    "# hello_add.py\n",
    "from flask import Flask, request, jsonify\n",
    "\n",
    "app = Flask(__name__)\n",
    "\n",
    "@app.route('/add', methods=['POST'])\n",
    "def add():\n",
    "    data = request.get_json()\n",
    "    return jsonify({'sum': data['a'] + data['b']})"
   ]
  },
  {
   "cell_type": "markdown",
   "metadata": {},
   "source": [
    "### Testing this API with pytest\n"
   ]
  },
  {
   "cell_type": "code",
   "execution_count": null,
   "metadata": {},
   "outputs": [],
   "source": [
    "# test_hello_add.py\n",
    "from hello_add import app\n",
    "from flask import json\n",
    "\n",
    "def test_add():        \n",
    "    response = app.test_client().post(\n",
    "        '/add',\n",
    "        data=json.dumps({'a': 1, 'b': 2}),\n",
    "        content_type='application/json',\n",
    "    )\n",
    "\n",
    "    data = json.loads(response.get_data(as_text=True))\n",
    "\n",
    "    assert response.status_code == 200\n",
    "    assert data['sum'] == 3"
   ]
  },
  {
   "cell_type": "markdown",
   "metadata": {},
   "source": [
    "### API Review:\n",
    "Perfect use case for TDD.  \n",
    "1. First decide what things you need the user to be able to do.  \n",
    "2. Write a failing test.  \n",
    "3. Write code to make the test pass.\n",
    "4. Refactor or clean up and simplify the code so it is clear.\n"
   ]
  },
  {
   "cell_type": "code",
   "execution_count": null,
   "metadata": {},
   "outputs": [],
   "source": []
  }
 ],
 "metadata": {
  "kernelspec": {
   "display_name": "Python 3",
   "language": "python",
   "name": "python3"
  },
  "language_info": {
   "codemirror_mode": {
    "name": "ipython",
    "version": 3
   },
   "file_extension": ".py",
   "mimetype": "text/x-python",
   "name": "python",
   "nbconvert_exporter": "python",
   "pygments_lexer": "ipython3",
   "version": "3.7.7-final"
  }
 },
 "nbformat": 4,
 "nbformat_minor": 4
}