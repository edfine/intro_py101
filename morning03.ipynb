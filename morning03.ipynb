{
 "cells": [
  {
   "cell_type": "markdown",
   "metadata": {},
   "source": [
    "# Python 101 - Day 3\n",
    "\n",
    "## Yesterday\n",
    "\n",
    "* Enum and zip\n",
    "* List comprehensions\n",
    "* Connecting lists and strings - join and split\n",
    "* More strings, slicing\n",
    "* Tuples\n",
    "* Dictionaries\n",
    "* Sets\n",
    "\n",
    "## Today's Agenda \n",
    "(this is a packed day and some changes will be made based on pacing)\n",
    "\n",
    "* Functions\n",
    "* Scope\n",
    "* Exceptions\n",
    "* Command Line Arguments\n",
    "* Modules\n",
    "* Databases\n",
    "* ReGexes\n",
    "* Object Oriented Programming\n",
    "* TDD and unit testing"
   ]
  },
  {
   "cell_type": "markdown",
   "metadata": {
    "slideshow": {
     "slide_type": "slide"
    }
   },
   "source": [
    "## Functions\n",
    "* __`def`__ introduces a function, followed by function name, parenthesized list of args and then a colon\n",
    "* body of function is indented\n",
    "* __`help(func)`__ prints out formatted docstring\n",
    "* __`func`__ .\\__doc__ prints out raw docstring\n"
   ]
  },
  {
   "cell_type": "code",
   "execution_count": null,
   "metadata": {},
   "outputs": [],
   "source": []
  },
  {
   "cell_type": "markdown",
   "metadata": {},
   "source": [
    "* if a function doesn’t call return explicitly, the special value __`None`__ is returned\n",
    "* __`None`__ is like __`NULL`__ in other languages\n",
    "* ...but not the same as __`False`__"
   ]
  },
  {
   "cell_type": "code",
   "execution_count": null,
   "metadata": {},
   "outputs": [],
   "source": []
  },
  {
   "cell_type": "markdown",
   "metadata": {
    "slideshow": {
     "slide_type": "subslide"
    }
   },
   "source": [
    "## Functions: positional arguments\n",
    "* arguments are passed to functions in order written\n",
    "* downside: you must remember meaning of each position"
   ]
  },
  {
   "cell_type": "code",
   "execution_count": null,
   "metadata": {},
   "outputs": [],
   "source": [
    "def menu(wine, entree, dessert):\n",
    "    return { 'wine': wine, 'entree': entree, \n",
    "            'dessert': dessert }"
   ]
  },
  {
   "cell_type": "markdown",
   "metadata": {},
   "source": [
    "![alt-text](images/IDE.png \"IDE\")\n",
    "* outside an IDE, it can be difficult to remember\n",
    "* if you pass args in wrong order, bad things can happen!"
   ]
  },
  {
   "cell_type": "code",
   "execution_count": null,
   "metadata": {},
   "outputs": [],
   "source": [
    "menu('chianti', 'tartuffo', 'polenta')"
   ]
  },
  {
   "cell_type": "markdown",
   "metadata": {
    "slideshow": {
     "slide_type": "subslide"
    }
   },
   "source": [
    "## Functions: keyword arguments\n",
    "* you may specify arguments by name, in any order\n",
    "* once you specify a keyword argument, all arguments following it must be keyword arguments"
   ]
  },
  {
   "cell_type": "code",
   "execution_count": null,
   "metadata": {},
   "outputs": [],
   "source": [
    "# passing some arguments by keyword\n",
    "menu('chianti', dessert='tartufo', entree='polenta')"
   ]
  },
  {
   "cell_type": "code",
   "execution_count": null,
   "metadata": {},
   "outputs": [],
   "source": [
    "# once you start passing arguments by keyword, the rest must be passed by keyword\n",
    "menu('chianti', dessert='tartufo', 'polenta')"
   ]
  },
  {
   "cell_type": "markdown",
   "metadata": {
    "slideshow": {
     "slide_type": "subslide"
    }
   },
   "source": [
    "## Functions: default arguments"
   ]
  },
  {
   "cell_type": "code",
   "execution_count": null,
   "metadata": {},
   "outputs": [],
   "source": [
    "def menu(wine, entree, dessert='tartufo'):\n",
    "    return { 'wine': wine, 'entree': entree, 'dessert': dessert }"
   ]
  },
  {
   "cell_type": "code",
   "execution_count": null,
   "metadata": {},
   "outputs": [],
   "source": [
    "menu('chardonnay', 'braised tofu')"
   ]
  },
  {
   "cell_type": "code",
   "execution_count": null,
   "metadata": {},
   "outputs": [],
   "source": [
    "menu('chardonnay', dessert='canoli',\n",
    "     entree='fagioli')"
   ]
  },
  {
   "cell_type": "markdown",
   "metadata": {
    "slideshow": {
     "slide_type": "subslide"
    }
   },
   "source": [
    "## Lab: functions\n",
    "* Write a function __`calculate`__ which is passed two operands and an operator and returns the calculated result, e.g., __`calculate(2, 4, '+')`__ would return 6\n",
    "* Write a function which takes an integer as a parameter, and sums up its digits. If the resulting sum contains more than 1 digit, the function should sum the digits again, e.g., __`sumdigits(1235)`__ should compute the sum of 1, 2, 3, and 5 (11), then compute the sum of 1 and 1, returning 2.\n",
    "* Write a function which takes a number as a parameter and returns a string version of the number with commas representing thousands, e.g., __`add_commas(12345)`__ would return \"12,345\"\n",
    "* Write a function to demonstrate the Collatz Conjecture:\n",
    "  * for integer n > 1\n",
    "    * if n is even, then __`n = n // 2`__\n",
    "    * if n is odd, then __`n = n * 3 + 1`__\n",
    "  * ...will always converge to 1\n",
    "  * (your function should take n and keep printing new value of n until n is 1)"
   ]
  },
  {
   "cell_type": "code",
   "execution_count": null,
   "metadata": {},
   "outputs": [],
   "source": [
    "\n",
    "    "
   ]
  },
  {
   "cell_type": "code",
   "execution_count": null,
   "metadata": {},
   "outputs": [],
   "source": []
  },
  {
   "cell_type": "markdown",
   "metadata": {
    "slideshow": {
     "slide_type": "subslide"
    }
   },
   "source": [
    "## Variable Positional Arguments\n",
    "* sometimes we want a function which takes a variable number of arguments (e.g., builtin __`print()`__ function)"
   ]
  },
  {
   "cell_type": "code",
   "execution_count": null,
   "metadata": {
    "tags": []
   },
   "outputs": [],
   "source": [
    "print('asdf','aldsfkj','bye')"
   ]
  },
  {
   "cell_type": "code",
   "execution_count": null,
   "metadata": {
    "tags": []
   },
   "outputs": [],
   "source": [
    "help(print)"
   ]
  },
  {
   "cell_type": "code",
   "execution_count": null,
   "metadata": {},
   "outputs": [],
   "source": [
    "def func(*args):\n",
    "    print(args)\n",
    "    print(type(args))\n",
    "    for index, arg in enumerate(args):\n",
    "        print('arg', index, 'is', arg)"
   ]
  },
  {
   "cell_type": "code",
   "execution_count": null,
   "metadata": {
    "tags": []
   },
   "outputs": [],
   "source": [
    "func()"
   ]
  },
  {
   "cell_type": "code",
   "execution_count": null,
   "metadata": {
    "tags": []
   },
   "outputs": [],
   "source": [
    "func(3, 4, 5, [2, 2, 3], {}, 'string')"
   ]
  },
  {
   "cell_type": "code",
   "execution_count": null,
   "metadata": {
    "tags": []
   },
   "outputs": [],
   "source": [
    "func({ 'a': 'b'}, [1, 2, 3], 'this', True)"
   ]
  },
  {
   "cell_type": "markdown",
   "metadata": {
    "slideshow": {
     "slide_type": "subslide"
    }
   },
   "source": [
    "## Lab: Variable Positional Arguments\n",
    "* write a function called __`product`__ which accepts a variable number of arguments and returns the product of all of its args. With no args, __`product()`__ should return 1    \n",
    "\n",
    "<pre><b>\n",
    ">>> product(3, 5)\n",
    "15\n",
    ">>> product(1, 2, 3)\n",
    "6\n",
    ">>> product(63, 12, 3, 0, 9)\n",
    "0\n",
    ">>> product()\n",
    "1\n",
    "</b></pre>"
   ]
  },
  {
   "cell_type": "code",
   "execution_count": null,
   "metadata": {},
   "outputs": [],
   "source": [
    "def product(*args):\n",
    "    result = 1\n",
    "    for arg in args:\n",
    "        result *= arg\n",
    "    return result\n",
    "\n",
    "print"
   ]
  },
  {
   "cell_type": "code",
   "execution_count": null,
   "metadata": {},
   "outputs": [],
   "source": [
    "product(2,3,4,5,10)"
   ]
  },
  {
   "cell_type": "markdown",
   "metadata": {
    "slideshow": {
     "slide_type": "subslide"
    }
   },
   "source": [
    "## Variable Keyword Arguments\n",
    "* what if a function needs a bunch of configuration options, having default values which typically aren't overridden?\n",
    "* one way to do this would be to have the function accept a dict in which these value(s) can be specified\n",
    "* better way is to use variable keywords arguments"
   ]
  },
  {
   "cell_type": "code",
   "execution_count": null,
   "metadata": {},
   "outputs": [],
   "source": [
    "def vka(**kwargs):\n",
    "    print(kwargs)\n",
    "    for key in kwargs:\n",
    "        print(key, '=>', kwargs[key])"
   ]
  },
  {
   "cell_type": "code",
   "execution_count": null,
   "metadata": {
    "tags": []
   },
   "outputs": [],
   "source": [
    "vka(sep='+', foo='bar', whizbang='rotunda', x=5, debug=True, color='pink')"
   ]
  },
  {
   "cell_type": "code",
   "execution_count": null,
   "metadata": {},
   "outputs": [],
   "source": [
    "def weird_func(x, y, z, *args, **kwargs):\n",
    "    print('req args:', x, y, z)\n",
    "    print('var pos args', args)\n",
    "    print('var keywd args', kwargs)"
   ]
  },
  {
   "cell_type": "code",
   "execution_count": null,
   "metadata": {
    "tags": []
   },
   "outputs": [],
   "source": [
    "weird_func(5, 'askgdfj', 17.9, 78, 98, ['foo', {}], me='Ed', you='awesome')"
   ]
  },
  {
   "cell_type": "markdown",
   "metadata": {
    "slideshow": {
     "slide_type": "subslide"
    }
   },
   "source": [
    "# Lab: Variable Keyword Arguments\n",
    "* modify your __`calculate`__ function by adding variable keywords arguments to it and checking whether __`float = True`__, and if so, the calculation is done as floating point, rather than integer (of course this could be done with a default argument value, but don't do that)\n",
    "\n",
    "<pre><b>\n",
    "calculate(2, 4, '+') = 6\n",
    "calculate(2, 4, '+', float=True) = 6.0\n",
    "</b></pre>"
   ]
  },
  {
   "cell_type": "code",
   "execution_count": null,
   "metadata": {},
   "outputs": [],
   "source": [
    "from calculate import calculate"
   ]
  },
  {
   "cell_type": "code",
   "execution_count": null,
   "metadata": {},
   "outputs": [],
   "source": [
    "# my calculate tests\n",
    "print(calculate(2, 4, '+') == 6)\n",
    "print(calculate(2, 4, '+', float=True) == 6.0)"
   ]
  },
  {
   "cell_type": "markdown",
   "metadata": {},
   "source": [
    "## Functions: recap\n",
    "* Python encourages functions which support lots of arguments with default values\n",
    "* \"Explicit is better than implicit\"\n",
    "  * arguments can be passed out of order ONLY if they're passed by keyword\n",
    "  * keywords are more explicit than positions because the function call documents the purpose of its arguments\n",
    "* variable positional args (__`*args`__)\n",
    "* variable keyword args (__`**kwargs`__)"
   ]
  },
  {
   "cell_type": "markdown",
   "metadata": {
    "slideshow": {
     "slide_type": "slide"
    }
   },
   "source": [
    "# Scope"
   ]
  },
  {
   "cell_type": "markdown",
   "metadata": {
    "slideshow": {
     "slide_type": "subslide"
    }
   },
   "source": [
    "## Python is not Block-Scoped!"
   ]
  },
  {
   "cell_type": "code",
   "execution_count": null,
   "metadata": {
    "tags": []
   },
   "outputs": [],
   "source": [
    "if True:\n",
    "    x = 'global x' # declare var inside block\n",
    "\n",
    "print(\"outside the block, x =\", x)"
   ]
  },
  {
   "cell_type": "code",
   "execution_count": null,
   "metadata": {
    "tags": []
   },
   "outputs": [],
   "source": [
    "def func():\n",
    "    print(\"---> in func\")\n",
    "    x = 'func x' # declare var inside function\n",
    "    print(\"x =\", x)\n",
    "    d = locals() # dict of local vars\n",
    "    print(\"local x =\", d['x'])\n",
    "    d = globals() \n",
    "    print(\"global x =\", d['x'])\n",
    "    print(\"---> leaving func\")\n",
    "\n",
    "func()"
   ]
  },
  {
   "cell_type": "code",
   "execution_count": null,
   "metadata": {
    "tags": []
   },
   "outputs": [],
   "source": [
    "print(\"in main, after func call, x =\", x)"
   ]
  },
  {
   "cell_type": "code",
   "execution_count": null,
   "metadata": {
    "tags": []
   },
   "outputs": [],
   "source": [
    "def func():\n",
    "    global x\n",
    "    print(\"---> inside second func\")\n",
    "    # can access global variables here\n",
    "    print(\"x =\", x)\n",
    "    # ...but to change them, we need to bind\n",
    "    # the name 'x' to the global var instead\n",
    "    # of a new local var...\n",
    "    x = 'new global x'\n",
    "    print(\"x =\", x)\n",
    "    print(\"---> leaving second func, x =\", x)\n",
    "    \n",
    "func()"
   ]
  },
  {
   "cell_type": "code",
   "execution_count": null,
   "metadata": {
    "tags": []
   },
   "outputs": [],
   "source": [
    "print(\"in main, after second func call, x =\", x)"
   ]
  },
  {
   "cell_type": "markdown",
   "metadata": {
    "slideshow": {
     "slide_type": "subslide"
    }
   },
   "source": [
    "## LEGB: Local, Enclosing, Global, Builtin\n",
    "* Python follows the LEGB rule to resolve names"
   ]
  },
  {
   "cell_type": "code",
   "execution_count": null,
   "metadata": {
    "tags": []
   },
   "outputs": [],
   "source": [
    "def func():\n",
    "    x = 'local to func()'\n",
    "    print('entering func, x =', x)\n",
    "\n",
    "    def funcinfunc():\n",
    "        global x\n",
    "        print('in funcinfunc(), x =', x)\n",
    "        x = 'ecks'\n",
    "\n",
    "    def func2infunc():\n",
    "        nonlocal x\n",
    "        print('in func2infunc(), x =', x)\n",
    "        x += ' and modified by nested function'\n",
    "        print('in func2infunc(), x =', x)\n",
    "\n",
    "    funcinfunc()\n",
    "    func2infunc()\n",
    "    print('leaving func, x =', x)\n",
    "\n",
    "x = 'global x'\n",
    "print('x =', x)\n",
    "func()\n",
    "print('x =', x)"
   ]
  },
  {
   "cell_type": "markdown",
   "metadata": {
    "slideshow": {
     "slide_type": "subslide"
    }
   },
   "source": [
    "## Pass-by-value or Pass-by-reference?\n",
    "* neither!\n",
    "* both!\n",
    "* Python is __\"pass by assignment\"__"
   ]
  },
  {
   "cell_type": "code",
   "execution_count": null,
   "metadata": {},
   "outputs": [],
   "source": [
    "def func(x):\n",
    "    x.append('new')\n",
    "    x = [4, 5, 6]\n",
    "    print('in func, x is', x)"
   ]
  },
  {
   "cell_type": "code",
   "execution_count": null,
   "metadata": {},
   "outputs": [],
   "source": [
    "mylist = [1, 2, 3]\n",
    "func(mylist)\n",
    "mylist"
   ]
  },
  {
   "cell_type": "code",
   "execution_count": null,
   "metadata": {},
   "outputs": [],
   "source": [
    "mylist = [1, 2, 3]\n",
    "x = mylist\n",
    "print(x)\n",
    "x = [4, 5, 6]\n",
    "print(mylist)\n",
    "print(x)"
   ]
  },
  {
   "cell_type": "markdown",
   "metadata": {
    "slideshow": {
     "slide_type": "slide"
    }
   },
   "source": [
    "# Exceptions"
   ]
  },
  {
   "cell_type": "markdown",
   "metadata": {
    "slideshow": {
     "slide_type": "subslide"
    }
   },
   "source": [
    "## Exceptions\n",
    "* errors detected during execution are called exceptions\n",
    "* exceptions are \"thrown\" and either \"caught\" by an exception handler, or propagated upward\n",
    "* \"…exceptions create hidden control-flow paths that are difficult for programmers to reason about\" –Weimer & Necula, \"Exceptional Situations and Program Reliability\"\n",
    "* ...but they are also Pythonic"
   ]
  },
  {
   "cell_type": "code",
   "execution_count": null,
   "metadata": {
    "slideshow": {
     "slide_type": "subslide"
    }
   },
   "outputs": [],
   "source": [
    "mylist = [1, 5, 10]\n",
    "mylist[1]"
   ]
  },
  {
   "cell_type": "code",
   "execution_count": null,
   "metadata": {},
   "outputs": [],
   "source": [
    "mylist[5]"
   ]
  },
  {
   "cell_type": "code",
   "execution_count": null,
   "metadata": {},
   "outputs": [],
   "source": [
    "int('13.1')"
   ]
  },
  {
   "cell_type": "markdown",
   "metadata": {
    "slideshow": {
     "slide_type": "subslide"
    }
   },
   "source": [
    "![alt-text](images/exceptions.png \"exceptions\")\n"
   ]
  },
  {
   "cell_type": "markdown",
   "metadata": {
    "slideshow": {
     "slide_type": "subslide"
    }
   },
   "source": [
    "## Exceptions: __`try/except`__\n",
    "* __`try`__ block wraps code which may throw an exception, and __`except`__ block catches exception"
   ]
  },
  {
   "cell_type": "code",
   "execution_count": null,
   "metadata": {
    "slideshow": {
     "slide_type": "subslide"
    },
    "tags": []
   },
   "outputs": [],
   "source": [
    "try:\n",
    "    mylist[5] # could throw an IndexError\n",
    "except:\n",
    "    print('no element at offset 5')\n",
    "    \n",
    "print('rest of program')"
   ]
  },
  {
   "cell_type": "markdown",
   "metadata": {},
   "source": [
    "* problem? above example catches ALL exceptions, not just __`IndexError`__ we are expecting\n",
    "* best practice is to catch expected exceptions and let unexpected ones through, so as to avoid hidden errors"
   ]
  },
  {
   "cell_type": "code",
   "execution_count": null,
   "metadata": {
    "slideshow": {
     "slide_type": "subslide"
    },
    "tags": []
   },
   "outputs": [],
   "source": [
    "try:\n",
    "    print(mylist[1])\n",
    "    int('a')\n",
    "except IndexError:\n",
    "    print('Bad index! Try again!')\n",
    "except Exception as uhoh:\n",
    "    print('Some other exception:', uhoh, type(uhoh))"
   ]
  },
  {
   "cell_type": "code",
   "execution_count": null,
   "metadata": {
    "slideshow": {
     "slide_type": "subslide"
    },
    "tags": []
   },
   "outputs": [],
   "source": [
    "short_list = ['one', 'two', 'three']\n",
    "\n",
    "while True:\n",
    "    value = input('Enter numeric index [q to quit]? ')\n",
    "    if value == 'q':\n",
    "        break\n",
    "    try:\n",
    "        position = int(value)\n",
    "        print(short_list[position])    \n",
    "    except IndexError:\n",
    "        print('Bad index:', value)\n",
    "    except ValueError:\n",
    "        print('Follow directions!')\n",
    "    except Exception as other:\n",
    "        print('Something else broke:', other, type(other))"
   ]
  },
  {
   "cell_type": "code",
   "execution_count": null,
   "metadata": {},
   "outputs": [],
   "source": []
  },
  {
   "cell_type": "markdown",
   "metadata": {
    "slideshow": {
     "slide_type": "subslide"
    }
   },
   "source": [
    "## Lab: Exceptions\n",
    "* modify all of your functions to include exception handlers as needed, e.g.,\n",
    " * __`calculate()`__ should catch the __`ZeroDivisionError`__ exception and print an informative message if the user tries to divide by zero\n",
    " * __`sumdigits()`__ should not crash due to non-digits\n",
    " * also take this time to add _docstrings_ if you haven't already\n"
   ]
  },
  {
   "cell_type": "markdown",
   "metadata": {
    "slideshow": {
     "slide_type": "subslide"
    }
   },
   "source": [
    "## Exceptions (cont'd)\n",
    "* important to minimize size of try block\n"
   ]
  },
  {
   "cell_type": "code",
   "execution_count": null,
   "metadata": {},
   "outputs": [],
   "source": [
    "# pseudocode\n",
    "try:\n",
    "    dangerous_call() # presumably could throw an exception\n",
    "    after_call() # I know this cannot throw an exception\n",
    "except OS_Error:\n",
    "    log('...')\n",
    "\n",
    "# after_call() will only run if dangerous_call() doesn't throw\n",
    "# an exception…So what's the problem?\n"
   ]
  },
  {
   "cell_type": "code",
   "execution_count": null,
   "metadata": {
    "slideshow": {
     "slide_type": "-"
    }
   },
   "outputs": [],
   "source": [
    "# pseudocode\n",
    "try:\n",
    "    dangerous_call()\n",
    "except OS_Error:\n",
    "    log('...')\n",
    "else:\n",
    "    after_call()\n",
    "    \n",
    "# now it’s clear that try block is guarding against possible errors in dangerous_call(), not  in after_call()\n",
    "# it’s also more obvious that after_call() will only execute if no exceptions are raised in the try block\n"
   ]
  },
  {
   "cell_type": "markdown",
   "metadata": {
    "slideshow": {
     "slide_type": "subslide"
    }
   },
   "source": [
    "## __The `finally` Block__\n",
    "* code in the finally block will be executed whether or not an exception is thrown"
   ]
  },
  {
   "cell_type": "code",
   "execution_count": null,
   "metadata": {
    "tags": []
   },
   "outputs": [],
   "source": [
    "def func():\n",
    "    try:\n",
    "        i = int(input('\\nEnter a number: '))\n",
    "        x = 1 / i\n",
    "    except ValueError:\n",
    "        print('Not a number!')\n",
    "        return\n",
    "    except ZeroDivisionError:\n",
    "        print('Cannot divide by 0')\n",
    "    else:\n",
    "        print('Everything OK')\n",
    "    finally:\n",
    "        print('FINALLY: DO this either way!')\n",
    "\n",
    "func(), func(), func()"
   ]
  },
  {
   "cell_type": "markdown",
   "metadata": {
    "slideshow": {
     "slide_type": "subslide"
    }
   },
   "source": [
    "# Lab: Exceptions\n",
    "* extend your calculator to allow 'log' as an operator\n",
    "  * the second argument is the base, i.e,. __`calculate(49.0, 7, 'log')`__ = __`log7(49.0)`__ = __`2.0`__\n",
    "  * remember that __`logb(x) = loga(x)/loga(b))`__\n",
    "* use a __`try/except/else`__ block around your code that computes the log"
   ]
  },
  {
   "cell_type": "code",
   "execution_count": null,
   "metadata": {},
   "outputs": [],
   "source": [
    "calculate(3, 0, '/')"
   ]
  },
  {
   "cell_type": "markdown",
   "metadata": {
    "slideshow": {
     "slide_type": "slide"
    }
   },
   "source": [
    "# Command-Line Arguments"
   ]
  },
  {
   "cell_type": "code",
   "execution_count": null,
   "metadata": {
    "slideshow": {
     "slide_type": "subslide"
    }
   },
   "outputs": [],
   "source": [
    "# try this outside of Jupyter\n",
    "import sys\n",
    "print('Program arguments', sys.argv)"
   ]
  },
  {
   "cell_type": "code",
   "execution_count": null,
   "metadata": {},
   "outputs": [],
   "source": [
    "import sys\n",
    "for idx, arg in enumerate(sys.argv):\n",
    "    print(\"arg %d is %s\" % (idx, arg))"
   ]
  },
  {
   "cell_type": "markdown",
   "metadata": {
    "slideshow": {
     "slide_type": "subslide"
    }
   },
   "source": [
    "## Lab: Command-Line Arguments\n",
    "* turn your __`calculate()`__ function into a standalone program which takes 3 command line arguments and invokes __`calculate()`__ with those arguments"
   ]
  },
  {
   "cell_type": "code",
   "execution_count": null,
   "metadata": {
    "tags": []
   },
   "outputs": [],
   "source": [
    "# %run is a \"line magic\" that tells Jupyter to run\n",
    "# the rest of the line in bash via python3\n",
    "%run calculate_argv.py 5 2 /"
   ]
  },
  {
   "cell_type": "code",
   "execution_count": null,
   "metadata": {},
   "outputs": [],
   "source": [
    "# '!python3' is a synonym for %run\n",
    "!python3 calculate_argv.py 2 7 -"
   ]
  },
  {
   "cell_type": "markdown",
   "metadata": {
    "slideshow": {
     "slide_type": "slide"
    }
   },
   "source": [
    "# Modules\n",
    "* files of Python code which \"expose\" functions, data, and classes (we'll be working with classes shortly)"
   ]
  },
  {
   "cell_type": "code",
   "execution_count": null,
   "metadata": {
    "tags": []
   },
   "outputs": [],
   "source": [
    "x = 5\n",
    "print(dir())"
   ]
  },
  {
   "cell_type": "code",
   "execution_count": null,
   "metadata": {
    "tags": []
   },
   "outputs": [],
   "source": [
    "import os\n",
    "print(dir())"
   ]
  },
  {
   "cell_type": "code",
   "execution_count": null,
   "metadata": {},
   "outputs": [],
   "source": [
    "os.name"
   ]
  },
  {
   "cell_type": "code",
   "execution_count": null,
   "metadata": {},
   "outputs": [],
   "source": [
    "os.getlogin()"
   ]
  },
  {
   "cell_type": "markdown",
   "metadata": {
    "slideshow": {
     "slide_type": "subslide"
    }
   },
   "source": [
    "## Two Ways to Import Modules\n",
    "* __`import module`__\n",
    "* __`from module import something`__\n",
    "  * __`from module import *`__\n",
    " \n",
    " \n",
    "* imported stuff can be renamed\n",
    "<pre><b>\n",
    "import numpy as np\n",
    "from sys import argv as foo\n",
    "</b></pre>"
   ]
  },
  {
   "cell_type": "markdown",
   "metadata": {
    "slideshow": {
     "slide_type": "subslide"
    }
   },
   "source": [
    "## Modules: from vs. import"
   ]
  },
  {
   "cell_type": "code",
   "execution_count": null,
   "metadata": {},
   "outputs": [],
   "source": [
    "# This is a module\n",
    "# It lives in the file mymodule.py\n",
    "\n",
    "def dummy():\n",
    "    return 45\n",
    "\n",
    "def foo():\n",
    "    print('bar!')\n",
    "    return 1\n",
    "\n",
    "public_data = \"public stuff!\"\n",
    "# names that begin with _ are considered \"private\"\n",
    "_private_data = \"private stuff!\""
   ]
  },
  {
   "cell_type": "code",
   "execution_count": null,
   "metadata": {},
   "outputs": [],
   "source": [
    "# when we import using this syntax\n",
    "from mymodule import *"
   ]
  },
  {
   "cell_type": "code",
   "execution_count": null,
   "metadata": {},
   "outputs": [],
   "source": [
    "public_data"
   ]
  },
  {
   "cell_type": "code",
   "execution_count": null,
   "metadata": {},
   "outputs": [],
   "source": [
    "_private_data"
   ]
  },
  {
   "cell_type": "code",
   "execution_count": null,
   "metadata": {
    "tags": []
   },
   "outputs": [],
   "source": [
    "# ...all data is added to our \"namespace\" except for private data\n",
    "print(dir())"
   ]
  },
  {
   "cell_type": "code",
   "execution_count": null,
   "metadata": {},
   "outputs": [],
   "source": [
    "dummy()"
   ]
  },
  {
   "cell_type": "code",
   "execution_count": null,
   "metadata": {},
   "outputs": [],
   "source": [
    "# ...but that's not the case if we use the other syntax\n",
    "import mymodule"
   ]
  },
  {
   "cell_type": "code",
   "execution_count": null,
   "metadata": {
    "tags": []
   },
   "outputs": [],
   "source": [
    "print(dir())"
   ]
  },
  {
   "cell_type": "code",
   "execution_count": null,
   "metadata": {},
   "outputs": [],
   "source": [
    "mymodule.public_data"
   ]
  },
  {
   "cell_type": "code",
   "execution_count": null,
   "metadata": {},
   "outputs": [],
   "source": [
    "mymodule._private_data"
   ]
  },
  {
   "cell_type": "markdown",
   "metadata": {
    "slideshow": {
     "slide_type": "subslide"
    }
   },
   "source": [
    "## Lab: Modules\n",
    "1. create your own module, mymodule.py (or any name you choose) and import it from IDLE or the Python shell using both from and import syntax\n",
    " be sure you are understand how to access variables/data from your imported modules and the difference between from mymodule and import mymodule\n",
    "2. take your __`calculate.py`__ program and split it into two files: a module which contains the __`calculate`__ function, and a main program which imports the __`calculate`__ module "
   ]
  },
  {
   "cell_type": "markdown",
   "metadata": {
    "slideshow": {
     "slide_type": "subslide"
    }
   },
   "source": [
    "## Module Search Path\n",
    "* where does Python look for modules?"
   ]
  },
  {
   "cell_type": "code",
   "execution_count": null,
   "metadata": {},
   "outputs": [],
   "source": [
    "import sys\n",
    "sys.path"
   ]
  },
  {
   "cell_type": "code",
   "execution_count": null,
   "metadata": {},
   "outputs": [],
   "source": [
    "sys.path.insert(0, '/salesforce/specific/dir')\n",
    "sys.path.remove('')\n",
    "sys.path"
   ]
  },
  {
   "cell_type": "markdown",
   "metadata": {
    "slideshow": {
     "slide_type": "subslide"
    }
   },
   "source": [
    "## Modules: Recap\n",
    "* modules are just files of Python code\n",
    "* two ways to import: __`from module import stuff`__ and __`import module`__\n",
    "* don't use __`from module import *`__ except for testing\n",
    "* private data is not really private!\n",
    "* packages are directories containing one or more Python modules"
   ]
  },
  {
   "cell_type": "markdown",
   "metadata": {},
   "source": [
    "## Databases\n",
    "\n",
    "Python offers a number of database connections for both SQL and noSQL databases.  They generally work similarly.  For convenience we will work with SQLite.  You have used SQLite before, even if you don't know it.  There are likely dozens of SQLite databases in the apps on your phone, iOS or Android.  \n",
    "\n",
    "To use the module, you must first create a Connection object that represents the database. Here the data will be stored in the example.db file:"
   ]
  },
  {
   "cell_type": "code",
   "execution_count": null,
   "metadata": {},
   "outputs": [],
   "source": [
    "import sqlite3\n",
    "conn = sqlite3.connect('montepython.sqlite')\n",
    "conn"
   ]
  },
  {
   "cell_type": "markdown",
   "metadata": {},
   "source": [
    "Notice that we have just created a database file called stocks.db.  \n",
    "Once you have a Connection, you can create a Cursor object and call its execute() method to perform SQL commands:"
   ]
  },
  {
   "cell_type": "code",
   "execution_count": null,
   "metadata": {},
   "outputs": [],
   "source": [
    "cur = conn.cursor()\n",
    "cur"
   ]
  },
  {
   "cell_type": "markdown",
   "metadata": {},
   "source": [
    "Data Types Available in SQLite for Python\n",
    "\n",
    "SQLite for Python offers fewer data types than other SQL implementations. This can be a bit restricting. However, as you’ll see, SQLite makes a lot of other things easier. Let’s take a quick look at the data types that are available:\n",
    "\n",
    "NULL — Includes a NULL value\n",
    "\n",
    "INTEGER — Includes an integer\n",
    "\n",
    "REAL — Includes a floating-point (decimal) value\n",
    "\n",
    "TEXT. — Includes text\n",
    "\n",
    "BLOB. — Includes a binary large object that is stored exactly as input\n",
    "\n",
    "From this list, you may notice a number of missing data types such as dates, that you would expect in Postgres, MySQL, etc.  Unfortunately, when using SQLite, you’re restricted to these data types. "
   ]
  },
  {
   "cell_type": "code",
   "execution_count": null,
   "metadata": {},
   "outputs": [],
   "source": [
    "# Let's see what we have in the database.  \n",
    "cur.execute(\"SELECT name FROM sqlite_schema WHERE type='table' ORDER BY name;\")\n",
    "tables = cur.fetchall()\n",
    "tables"
   ]
  },
  {
   "cell_type": "code",
   "execution_count": null,
   "metadata": {},
   "outputs": [],
   "source": [
    "# Let's see what the schema contains.  \n",
    "cur.execute(\"PRAGMA table_info('scripts')\").fetchall()"
   ]
  },
  {
   "cell_type": "markdown",
   "metadata": {},
   "source": [
    "Let's get information from the table called scripts."
   ]
  },
  {
   "cell_type": "code",
   "execution_count": null,
   "metadata": {},
   "outputs": [],
   "source": [
    "cur.execute(\"SELECT * FROM scripts LIMIT 3;\") \n",
    "cur.fetchall()"
   ]
  },
  {
   "cell_type": "markdown",
   "metadata": {},
   "source": [
    "![alt-text](images/exploits_of_a_mom.png \"sql injection\")"
   ]
  },
  {
   "cell_type": "code",
   "execution_count": null,
   "metadata": {},
   "outputs": [],
   "source": [
    "safeargs = (1,)\n",
    "\n",
    "cur.execute(\"SELECT * FROM scripts WHERE episode=? LIMIT 10\", safeargs).fetchall()"
   ]
  },
  {
   "cell_type": "code",
   "execution_count": 2,
   "metadata": {},
   "outputs": [],
   "source": [
    "import sqlite3\n",
    "from sqlite3 import Error\n",
    "import csv\n",
    "\n",
    "DB_FILE_PATH = 'sampleSQLite.db'\n",
    "CSV_FILE_PATH = 'IMDB-Movie-Data.csv'\n",
    "\n",
    "\n",
    "def connect_to_db(db_file):\n",
    "    \"\"\"\n",
    "    Connect to an SQlite database, if db file does not exist it will be created\n",
    "    :param db_file: absolute or relative path of db file\n",
    "    :return: sqlite3 connection\n",
    "    \"\"\"\n",
    "    sqlite3_conn = None\n",
    "\n",
    "    try:\n",
    "        sqlite3_conn = sqlite3.connect(db_file)\n",
    "        return sqlite3_conn\n",
    "\n",
    "    except Error as err:\n",
    "        print(err)\n",
    "\n",
    "        if sqlite3_conn is not None:\n",
    "            sqlite3_conn.close()\n",
    "\n",
    "\n",
    "def insert_values_to_table(table_name, csv_file_path):\n",
    "    \"\"\"\n",
    "    Open a csv file, store its content in a list excluding header and insert the data from the list to db table\n",
    "    :param table_name: table name in the database to insert the data into\n",
    "    :param csv_file_path: path of the csv file to process\n",
    "    :return: None\n",
    "    \"\"\"\n",
    "\n",
    "    conn = connect_to_db(DB_FILE_PATH)\n",
    "\n",
    "    if conn is not None:\n",
    "        c = conn.cursor()\n",
    "\n",
    "        # Create table if it is not exist\n",
    "        c.execute('CREATE TABLE IF NOT EXISTS ' + table_name +\n",
    "                  '(rank        INTEGER,'\n",
    "                  'title        VARCHAR,'\n",
    "                  'genre        VARCHAR,'\n",
    "                  'description  VARCHAR,'\n",
    "                  'director     VARCHAR,'\n",
    "                  'actors       VARCHAR,'\n",
    "                  'year_release INTEGER,'\n",
    "                  'runTime      INTEGER,'\n",
    "                  'rating       DECIMAL,'\n",
    "                  'votes        INTEGER,'\n",
    "                  'revenue      DECIMAL,'\n",
    "                  'metascore    INTEGER)')\n",
    "\n",
    "        # Read CSV file content\n",
    "        values_to_insert = open_csv_file(csv_file_path)\n",
    "\n",
    "        # Insert to table\n",
    "        if len(values_to_insert) > 0:\n",
    "            column_names, column_numbers = get_column_names_from_db_table(c, table_name)\n",
    "\n",
    "            values_str = '?,' * column_numbers\n",
    "            values_str = values_str[:-1]\n",
    "\n",
    "            sql_query = 'INSERT INTO ' + table_name + '(' + column_names + ') VALUES (' + values_str + ')'\n",
    "\n",
    "            c.executemany(sql_query, values_to_insert)\n",
    "            conn.commit()\n",
    "\n",
    "            print('SQL insert process finished')\n",
    "        else:\n",
    "            print('Nothing to insert')\n",
    "\n",
    "        conn.close()\n",
    "\n",
    "    else:\n",
    "        print('Connection to database failed')\n",
    "\n",
    "\n",
    "def open_csv_file(csv_file_path):\n",
    "    \"\"\"\n",
    "    Open and read data from a csv file without headers (skipping the first row)\n",
    "    :param csv_file_path: path of the csv file to process\n",
    "    :return: a list with the csv content\n",
    "    \"\"\"\n",
    "    with open(csv_file_path, 'r', encoding='utf-8') as csv_file:\n",
    "        reader = csv.reader(csv_file)\n",
    "        next(reader)\n",
    "\n",
    "        data = list()\n",
    "        for row in reader:\n",
    "            data.append(row)\n",
    "\n",
    "        return data\n",
    "\n",
    "\n",
    "def get_column_names_from_db_table(sql_cursor, table_name):\n",
    "    \"\"\"\n",
    "    Scrape the column names from a database table to a list and convert to a comma separated string, count the number\n",
    "    of columns in a database table\n",
    "    :param sql_cursor: sqlite cursor\n",
    "    :param table_name: table name to get the column names from\n",
    "    :return: a comma separated string with column names, an integer with number of columns\n",
    "    \"\"\"\n",
    "\n",
    "    table_column_names = 'PRAGMA table_info(' + table_name + ');'\n",
    "    sql_cursor.execute(table_column_names)\n",
    "    table_column_names = sql_cursor.fetchall()\n",
    "\n",
    "    column_count = len(table_column_names)\n",
    "\n",
    "    column_names = list()\n",
    "\n",
    "    for name in table_column_names:\n",
    "        column_names.append(name[1])\n",
    "\n",
    "    return ', '.join(column_names), column_count"
   ]
  },
  {
   "cell_type": "code",
   "execution_count": 3,
   "metadata": {
    "tags": []
   },
   "outputs": [
    {
     "name": "stdout",
     "output_type": "stream",
     "text": [
      "SQL insert process finished\n"
     ]
    }
   ],
   "source": [
    "insert_values_to_table('imdb_temp', CSV_FILE_PATH)"
   ]
  },
  {
   "cell_type": "markdown",
   "metadata": {
    "pycharm": {
     "name": "#%% md\n"
    }
   },
   "source": [
    "## Lab: Databases\n",
    "* Use the functions above to get data from the database and test that you have inserted the data.  \n",
    "* Use these functions to produce a new database based on a csv that you have or one such as the COVID. Run several interesting queries and share your results with your group or the chat.\n",
    "* Go to https://www.kaggle.com/crowdflower/twitter-airline-sentiment or browse https://www.kaggle.com/datasets?fileType=sqlite&license=cc download a db (watch the size!) and connect to it and determine its structure. "
   ]
  },
  {
   "cell_type": "code",
   "execution_count": 4,
   "metadata": {},
   "outputs": [],
   "source": [
    "conn2 = sqlite3.connect('tmp.db')"
   ]
  },
  {
   "cell_type": "markdown",
   "metadata": {
    "slideshow": {
     "slide_type": "slide"
    }
   },
   "source": [
    "# Regular Expressions\n",
    "* special sequence of characters that helps you find specific text sequences in strings, files, etc.\n",
    "* \"wildcard\" characters take the place of a group of characters"
   ]
  },
  {
   "cell_type": "code",
   "execution_count": null,
   "metadata": {},
   "outputs": [],
   "source": [
    "import re\n",
    "re.match('a.*a', 'alphabet')"
   ]
  },
  {
   "cell_type": "code",
   "execution_count": null,
   "metadata": {
    "pycharm": {
     "name": "#%%\n"
    }
   },
   "outputs": [],
   "source": [
    "re.match('h.*t', 'alphabet')"
   ]
  },
  {
   "cell_type": "code",
   "execution_count": null,
   "metadata": {},
   "outputs": [],
   "source": [
    "re.search('h.*t', 'alphabet')"
   ]
  },
  {
   "cell_type": "code",
   "execution_count": null,
   "metadata": {},
   "outputs": [],
   "source": [
    "re.search('a.*z', 'alphabet')"
   ]
  },
  {
   "cell_type": "code",
   "execution_count": null,
   "metadata": {},
   "outputs": [],
   "source": [
    "re.search('.*t', 'alphabet')"
   ]
  },
  {
   "cell_type": "code",
   "execution_count": null,
   "metadata": {},
   "outputs": [],
   "source": [
    "# you can search for fixed strings, rather than using wildcards...\n",
    "import re\n",
    "linenum = 0\n",
    "\n",
    "for line in open('poem.txt'):\n",
    "    linenum += 1\n",
    "    if re.search('the', line):\n",
    "        print('{}: {}'.format(linenum, \n",
    "                re.sub('the', '---', line)), end='')"
   ]
  },
  {
   "cell_type": "code",
   "execution_count": null,
   "metadata": {},
   "outputs": [],
   "source": [
    "!cat poem.txt"
   ]
  },
  {
   "cell_type": "markdown",
   "metadata": {
    "pycharm": {
     "name": "#%% md\n"
    },
    "slideshow": {
     "slide_type": "subslide"
    }
   },
   "source": [
    "## RE Metacharacters\n",
    "<pre><b>\n",
    ". = any character except newline\n",
    "^ = beginning of line/string\n",
    "$ = end of line/string\n",
    "* = 0+ of the preceding RE\n",
    "+ = 1+ of the preceding RE\n",
    "? = 0 or 1 instances of preceding RE\n",
    "{n} = exactly n instances of the preceding RE\n",
    "[] = match character set or range, e.g., [aeiou], [a-z], etc.\n",
    "(…) = matches the RE inside the parens, and creates a group \n",
    "</b></pre>\n",
    "\n",
    "Let's try some of these using regex101.com "
   ]
  },
  {
   "cell_type": "code",
   "execution_count": null,
   "metadata": {},
   "outputs": [],
   "source": [
    "import re\n",
    "o = re.search('l.*e', 'alphabet')\n",
    "o.re"
   ]
  },
  {
   "cell_type": "code",
   "execution_count": null,
   "metadata": {
    "pycharm": {
     "name": "#%%\n"
    }
   },
   "outputs": [],
   "source": [
    "o.re.pattern"
   ]
  },
  {
   "cell_type": "code",
   "execution_count": null,
   "metadata": {},
   "outputs": [],
   "source": [
    "o.string"
   ]
  },
  {
   "cell_type": "code",
   "execution_count": null,
   "metadata": {},
   "outputs": [],
   "source": [
    "o.start(), o.end()"
   ]
  },
  {
   "cell_type": "code",
   "execution_count": null,
   "metadata": {},
   "outputs": [],
   "source": [
    "o.string[o.start():o.end()]"
   ]
  },
  {
   "cell_type": "markdown",
   "metadata": {
    "pycharm": {
     "name": "#%% md\n"
    },
    "slideshow": {
     "slide_type": "subslide"
    }
   },
   "source": [
    "## Lab: Write a Cheap Imitation of __`grep`__ in Python\n",
    "* write a Python program which takes two command line arguments, a filename and a regex pattern\n",
    "* your program should act like __`grep`__ in that it should search for the pattern in each line of the file\n",
    "* if the pattern matches a given line, print out the line"
   ]
  },
  {
   "cell_type": "code",
   "execution_count": null,
   "metadata": {},
   "outputs": [],
   "source": []
  },
  {
   "cell_type": "markdown",
   "metadata": {
    "pycharm": {
     "name": "#%% md\n"
    },
    "slideshow": {
     "slide_type": "subslide"
    }
   },
   "source": [
    "## Lab: Pluralization\n",
    "* write a program (or function) which takes a word as a command line argument and outputs the plural of that word\n",
    "* your program should follow these rules:\n",
    "  * if the word ends in 's', 'x', or 'z', the plural adds 'es', e.g., ax => axes, loss => losses\n",
    "  * if the word ends in an 'h', which is not preceded by a vowel or 'd', 'g', 'k', 'p', 'r', or 't', the plural adds 'es',"
   ]
  },
  {
   "cell_type": "markdown",
   "metadata": {
    "slideshow": {
     "slide_type": "subslide"
    }
   },
   "source": [
    "## Lab: argparse\n",
    "* modify the RE/grep lab to use -f to specify the filename and -p to specify the pattern\n",
    "* also add -v or --version as an option\n",
    "* if you have time add a -c (\"context\") option which will print the preceding and following line for each line that matches"
   ]
  },
  {
   "cell_type": "markdown",
   "metadata": {
    "slideshow": {
     "slide_type": "slide"
    }
   },
   "source": [
    "# Object-Oriented Programming/Classes"
   ]
  },
  {
   "cell_type": "markdown",
   "metadata": {
    "slideshow": {
     "slide_type": "subslide"
    }
   },
   "source": [
    "## Classes\n",
    "* so far we've looked at built-in types; now we're going to define a new type\n",
    "* class = programmer-defined type"
   ]
  },
  {
   "cell_type": "code",
   "execution_count": null,
   "metadata": {},
   "outputs": [],
   "source": [
    "# simplest class/object we can create\n",
    "class Person(object):\n",
    "    pass"
   ]
  },
  {
   "cell_type": "code",
   "execution_count": null,
   "metadata": {},
   "outputs": [],
   "source": [
    "# to instantiate, or create an object, you call the\n",
    "# class as if were a function\n",
    "somebody = Person()"
   ]
  },
  {
   "cell_type": "code",
   "execution_count": null,
   "metadata": {},
   "outputs": [],
   "source": [
    "somebody # somebody is an instance of the \n",
    "# Person class"
   ]
  },
  {
   "cell_type": "code",
   "execution_count": null,
   "metadata": {},
   "outputs": [],
   "source": [
    "type(somebody), type(3)"
   ]
  },
  {
   "cell_type": "code",
   "execution_count": null,
   "metadata": {},
   "outputs": [],
   "source": [
    "type(Person), type(int)"
   ]
  },
  {
   "cell_type": "code",
   "execution_count": null,
   "metadata": {
    "slideshow": {
     "slide_type": "subslide"
    }
   },
   "outputs": [],
   "source": [
    "class BankAccount(object):\n",
    "    # __init__ is like a constructor\n",
    "    # it is used to initialize the object that is created\n",
    "    def __init__(self, name, initial_balance):\n",
    "        self.name = name\n",
    "        self.balance = initial_balance\n",
    "        print('in __init__')\n",
    "        \n",
    "    # all methods (with some exceptions) must have self as a first parameter...\n",
    "    # ...even though you don't pass self when you call the method (Python does)\n",
    "    def deposit(self, amount):\n",
    "        if amount > 0:\n",
    "            self.balance += amount\n",
    "            return self.balance\n",
    "        else:\n",
    "            print(\"can't deposit nonpositive amount!\")\n",
    "\n",
    "    def withdraw(self, amount):\n",
    "        if amount > 0:\n",
    "            if amount <= self.balance:\n",
    "                self.balance -= amount\n",
    "                return self.balance\n",
    "            else:\n",
    "                print(\"can't withdraw\", amount, \"or you would be overdrawn!\")\n",
    "        else:\n",
    "            print(\"can't withdraw nonpositive amount!\")\n"
   ]
  },
  {
   "cell_type": "code",
   "execution_count": null,
   "metadata": {},
   "outputs": [],
   "source": [
    "account1 = BankAccount('Gutzon Borglum', 100)"
   ]
  },
  {
   "cell_type": "code",
   "execution_count": null,
   "metadata": {},
   "outputs": [],
   "source": [
    "# what is account1?\n",
    "account1"
   ]
  },
  {
   "cell_type": "code",
   "execution_count": null,
   "metadata": {},
   "outputs": [],
   "source": [
    "# we can inspect attributes of our newly-created object\n",
    "print(account1.name, account1.balance)"
   ]
  },
  {
   "cell_type": "code",
   "execution_count": null,
   "metadata": {},
   "outputs": [],
   "source": [
    "# we can deposit money\n",
    "account1.deposit(25)"
   ]
  },
  {
   "cell_type": "code",
   "execution_count": null,
   "metadata": {},
   "outputs": [],
   "source": [
    "# we can withdraw money\n",
    "account1.withdraw(5)"
   ]
  },
  {
   "cell_type": "markdown",
   "metadata": {
    "slideshow": {
     "slide_type": "subslide"
    }
   },
   "source": [
    "## Classes: \"magic\" methods\n",
    "* __\\_\\_init\\_\\___ is a special initialization method that is invoked when the object is instantiated\n",
    "* __\\_\\_str\\_\\___ returns a string representation of the object (i.e., for humans), maps to str() function\n",
    "* __\\_\\_repr\\_\\___ returns unambiguous representation of the object which could be fed to Python interpreter to recreate the object, maps to repr() function"
   ]
  },
  {
   "cell_type": "code",
   "execution_count": null,
   "metadata": {},
   "outputs": [],
   "source": [
    "import datetime\n",
    "today = datetime.datetime.now()\n",
    "str(today), repr(today)"
   ]
  },
  {
   "cell_type": "code",
   "execution_count": null,
   "metadata": {},
   "outputs": [],
   "source": [
    "today"
   ]
  },
  {
   "cell_type": "code",
   "execution_count": null,
   "metadata": {},
   "outputs": [],
   "source": [
    "str(today)"
   ]
  },
  {
   "cell_type": "code",
   "execution_count": null,
   "metadata": {},
   "outputs": [],
   "source": [
    "today.__str__()"
   ]
  },
  {
   "cell_type": "markdown",
   "metadata": {
    "slideshow": {
     "slide_type": "subslide"
    }
   },
   "source": [
    "## Let's add __\\_\\_`repr`\\_\\_ and __\\_\\_`str`\\_\\_ to our class"
   ]
  },
  {
   "cell_type": "code",
   "execution_count": null,
   "metadata": {},
   "outputs": [],
   "source": [
    "class BankAccount(object):\n",
    "    def __init__(self, name, initial_balance):\n",
    "        self.name = name\n",
    "        self.balance = initial_balance\n",
    "\n",
    "    '''representation of the object \"feedable\" to Python\n",
    "    interpreter'''\n",
    "    def __repr__(self):\n",
    "        return self.__class__.__name__ + '(' + repr(self.name) \\\n",
    "               + ', ' + repr(self.balance) + ')'\n",
    "\n",
    "    '''string representation of object, for humans\n",
    "    __repr__ is used if __str__ does not exist'''\n",
    "    def __str__(self):\n",
    "        print('in the __str__() function')\n",
    "        return self.name + ' ' + str(self.balance)\n",
    "\n",
    "    def __add__(self, other):\n",
    "        return BankAccount(self.name + ' ' + other.name,\n",
    "                    self.balance + other.balance)\n",
    "    \n",
    "    def deposit(self, amount):\n",
    "        if amount > 0:\n",
    "            self.balance += amount\n",
    "            return self.balance\n",
    "        else:\n",
    "            print(\"can't deposit nonpositive amount!\")\n",
    "\n",
    "    def withdraw(self, amount):\n",
    "        if amount > 0:\n",
    "            if amount <= self.balance:\n",
    "                self.balance -= amount\n",
    "                return self.balance\n",
    "            else:\n",
    "                print(\"can't withdraw\", amount, \"or you would be overdrawn!\")\n",
    "        else:\n",
    "            print(\"can't withdraw nonpositive amount!\")"
   ]
  },
  {
   "cell_type": "code",
   "execution_count": null,
   "metadata": {},
   "outputs": [],
   "source": [
    "account2 = BankAccount('Gutzon Borglum', 100.0)\n",
    "account3 = BankAccount('Marie Curie', 200.0)"
   ]
  },
  {
   "cell_type": "code",
   "execution_count": null,
   "metadata": {},
   "outputs": [],
   "source": [
    "# try repr()\n",
    "repr(account2)\n",
    "#account3 = BankAccount('Gutzon Borglum', 100.0)\n",
    "#print(account3)"
   ]
  },
  {
   "cell_type": "code",
   "execution_count": null,
   "metadata": {},
   "outputs": [],
   "source": [
    "# try str()\n",
    "account2.__str__()"
   ]
  },
  {
   "cell_type": "markdown",
   "metadata": {
    "slideshow": {
     "slide_type": "subslide"
    }
   },
   "source": [
    "## Other \"magic\" methods\n",
    "* __\\_\\_add\\_\\___ = add two objects together\n",
    "* __\\_\\_eq\\_\\___ = implementation of ==\n",
    "* __\\_\\_ne\\_\\___ = implementation of !=\n",
    "* __\\_\\_len\\_\\___ = implementation of len() method\n",
    "* many others!"
   ]
  },
  {
   "cell_type": "markdown",
   "metadata": {
    "slideshow": {
     "slide_type": "subslide"
    }
   },
   "source": [
    "## Lab: Calculator Class\n",
    "* Create a class Calculator which acts like a calculator\n",
    "* Your class should have methods __`add()`__, __`sub()`__, __`mult()`__, __`div()`__, __`pow()`__, and __`log()`__, but you can add more if you wish\n",
    "* Each of the above methods (except __`log()`__) should take 1 or 2 arguments–for 1 argument, e.g., __`add(1)`__, your method should add to the running total. For 2 arguments, your method should act on those 2 arguments to create the new running total\n",
    "  * e.g., __`add(2, 4)`__ should produce 6, and then when followed by __`multiply(5)`__, it should produce 30\n",
    "* All calculations should be stored, and should be accessible to the caller via the __`showcalc()`__ method.\n",
    "* You should also have an __`ac()`__ \"all clear\" method which clears the running total and the list of calculations (i.e., __`showcalc()`__ should produce no output, or \"0.0\" when preceded by __`ac()`__)"
   ]
  },
  {
   "cell_type": "code",
   "execution_count": null,
   "metadata": {},
   "outputs": [],
   "source": [
    "import sys\n",
    "sys.path.append('')\n",
    "from calculator import Calc\n",
    "c = Calc()\n",
    "print(c.add(3, 4))\n",
    "print(c.sub(5))\n",
    "print(c)"
   ]
  },
  {
   "cell_type": "markdown",
   "metadata": {
    "slideshow": {
     "slide_type": "subslide"
    }
   },
   "source": [
    "## Inheritance"
   ]
  },
  {
   "cell_type": "code",
   "execution_count": null,
   "metadata": {},
   "outputs": [],
   "source": [
    "class Word(str):\n",
    "    '''The Word class inherits from the str class.\n",
    "    Which means it gets everything from the str\n",
    "    class plus whatever it defines. So we will\n",
    "    redefine >, <, >=, <= so that a Word is\n",
    "    compared by length, not alphabetically.\n",
    "    '''\n",
    "\n",
    "    def __gt__(self, other):\n",
    "        return len(self) > len(other)\n",
    "    def __lt__(self, other):\n",
    "        return len(self) < len(other)\n",
    "    def __ge__(self, other):\n",
    "        return len(self) >= len(other)\n",
    "    def __le__(self, other):\n",
    "        return len(self) <= len(other)\n",
    "    def __eq__(self, other):\n",
    "        return len(self) == len(other)"
   ]
  },
  {
   "cell_type": "code",
   "execution_count": null,
   "metadata": {},
   "outputs": [],
   "source": [
    "'apple' > 'fig', Word('apple') > Word('fig')"
   ]
  },
  {
   "cell_type": "code",
   "execution_count": null,
   "metadata": {},
   "outputs": [],
   "source": [
    "Word('apple') != Word('fig')"
   ]
  },
  {
   "cell_type": "code",
   "execution_count": null,
   "metadata": {},
   "outputs": [],
   "source": [
    "class Polygon():\n",
    "    def __init__(self, num_sides):\n",
    "        self.num_sides = num_sides\n",
    "        self.sides = [0 for i in range(num_sides)]\n",
    "\n",
    "    def __repr__(self):\n",
    "        return \", \".join([str(i) for i in self.sides])\n",
    "\n",
    "    def inputSides(self):\n",
    "        self.sides = [float(input(\"Enter side \"+ str(i + 1) + \": \"))\n",
    "                      for i in range(self.num_sides)]\n",
    "\n",
    "    def area(self):\n",
    "        print(\"Can't compute area of unknown polygon!\")\n",
    "        raise ValueError"
   ]
  },
  {
   "cell_type": "code",
   "execution_count": null,
   "metadata": {},
   "outputs": [],
   "source": [
    "class Triangle(Polygon):\n",
    "    def __init__(self):\n",
    "        '''\n",
    "        use super() to call __init__ in base class and\n",
    "        be sure we have 3 sides\n",
    "        '''\n",
    "        super().__init__(3)\n",
    "\n",
    "    def area(self):\n",
    "        import math\n",
    "        a, b, c = self.sides\n",
    "        'compute semi-perimeter'\n",
    "        s = sum(self.sides) / 2\n",
    "        \"compute area using Heron's formula\"\n",
    "        area = math.sqrt((s * (s - a) * (s - b) * (s - c)))\n",
    "        return area"
   ]
  },
  {
   "cell_type": "code",
   "execution_count": null,
   "metadata": {},
   "outputs": [],
   "source": [
    "class Square(Polygon):\n",
    "    def __init__(self):\n",
    "        super().__init__(4)\n",
    "\n",
    "    def inputSides(self):\n",
    "        'only need one side length for a square'\n",
    "        s = float(input(\"Enter length of side: \"))\n",
    "        'only need to store one side'\n",
    "        self.sides = [s]\n",
    "\n",
    "    def area(self):\n",
    "        return self.sides[0] ** 2"
   ]
  },
  {
   "cell_type": "code",
   "execution_count": null,
   "metadata": {},
   "outputs": [],
   "source": [
    "poly = Polygon(7)"
   ]
  },
  {
   "cell_type": "code",
   "execution_count": null,
   "metadata": {},
   "outputs": [],
   "source": [
    "poly.inputSides()"
   ]
  },
  {
   "cell_type": "code",
   "execution_count": null,
   "metadata": {},
   "outputs": [],
   "source": [
    "poly.sides"
   ]
  },
  {
   "cell_type": "code",
   "execution_count": null,
   "metadata": {},
   "outputs": [],
   "source": [
    "tri = Triangle()"
   ]
  },
  {
   "cell_type": "code",
   "execution_count": null,
   "metadata": {},
   "outputs": [],
   "source": [
    "tri"
   ]
  },
  {
   "cell_type": "code",
   "execution_count": null,
   "metadata": {},
   "outputs": [],
   "source": [
    "tri.inputSides()"
   ]
  },
  {
   "cell_type": "code",
   "execution_count": null,
   "metadata": {},
   "outputs": [],
   "source": [
    "tri.area()"
   ]
  },
  {
   "cell_type": "markdown",
   "metadata": {
    "slideshow": {
     "slide_type": "slide"
    }
   },
   "source": [
    "# Test-Driven Development/Unit Testing/Mocking"
   ]
  },
  {
   "cell_type": "markdown",
   "metadata": {
    "slideshow": {
     "slide_type": "subslide"
    }
   },
   "source": [
    "## Test-Driven Development\n",
    "* not a library or an API, but rather, TDD is a way of developing software\n",
    "* Python includes awesome support for TDD right out of the box\n",
    "* unit testing has been an integral part of Python since version 2.1 (2001)\n",
    "* numerous improvements since then\n",
    "* no excuse for avoiding testing!"
   ]
  },
  {
   "cell_type": "code",
   "execution_count": null,
   "metadata": {
    "slideshow": {
     "slide_type": "subslide"
    }
   },
   "outputs": [],
   "source": [
    "from IPython.display import Image\n",
    "Image('TDDflowchart.png')"
   ]
  },
  {
   "cell_type": "markdown",
   "metadata": {
    "slideshow": {
     "slide_type": "subslide"
    }
   },
   "source": [
    "## Unit Testing\n",
    "* the smallest testable parts of an application, called units, are individually and independently scrutinized to ensure they work\n",
    "* your functions/methods/procedures should do ONE thing (and do it well)–testing that thing should be relatively easy to explain\n",
    "* exercise the !$%@!$# out of the unit to be sure it works, especially with corner cases, not just the expected cases\n",
    "* sometimes called \"white box testing\""
   ]
  },
  {
   "cell_type": "markdown",
   "metadata": {
    "slideshow": {
     "slide_type": "subslide"
    }
   },
   "source": [
    "## Integration Testing\n",
    "* unit testing = testing a single unit of code, isolated from other units\n",
    "* integration testing = exercising 2+ units together, with the goal being to check whether these units have been integrated correctly\n",
    " * if any step fails, the integration test fails, but we must investigate (sometimes deeply) to find out where the failure actually occurred\n",
    " * if unit tests don't pass, there is no point in going further with an integration test"
   ]
  },
  {
   "cell_type": "markdown",
   "metadata": {
    "slideshow": {
     "slide_type": "subslide"
    }
   },
   "source": [
    "## TDD is NOT REALLY ABOUT TESTING!\n",
    "* traditionally, unit testing and developer testing are about writing tests to verify the code works…\n",
    "* …whereas main focus of TDD is not about testing\n",
    "* writing a test before the code is implemented changes the way we think when we implement functionality\n",
    " * resulting code is more testable\n",
    " * usually simple, elegant design\n",
    " * easier to read and maintain\n",
    " * why?\n",
    "* so really about writing better code, and we get an automated test suite as a nice side effect"
   ]
  },
  {
   "cell_type": "markdown",
   "metadata": {
    "slideshow": {
     "slide_type": "subslide"
    }
   },
   "source": [
    "## TDD tests\n",
    "* usually require no setup, vs. traditional unit tests\n",
    "* fast to run, since we run them often during development (sometimes called \"micro tests\")\n",
    "* tests that drive the development forward\n",
    "* not necessarily cover all imaginable scenarios\n",
    " * e.g., file processing function might be tested with a file that exists, a file that's unreadable, a file that doesn't exist, but not necessarily with a 1TB file\n",
    "* \"TDD is about writing better, cleaner, more maintainable code, and only incidentally about testing.\""
   ]
  },
  {
   "cell_type": "markdown",
   "metadata": {
    "slideshow": {
     "slide_type": "subslide"
    }
   },
   "source": [
    "## TDD Testing Recap\n",
    "* TDD testing general rules\n",
    " * run fast\n",
    " * standalone\n",
    " * independent\n",
    " * run full test suite before/after coding sessions\n",
    " * write a broken unit test when interrupting your work"
   ]
  },
  {
   "cell_type": "markdown",
   "metadata": {
    "slideshow": {
     "slide_type": "subslide"
    }
   },
   "source": [
    "## A Sample Class"
   ]
  },
  {
   "cell_type": "code",
   "execution_count": null,
   "metadata": {},
   "outputs": [],
   "source": [
    "class FunnyList(list):\n",
    "    def __init__(self, item):\n",
    "        \"\"\"Allows us to create a FunnyList not only from a list,\n",
    "           but ALSO from a single element\n",
    "        \"\"\"\n",
    "        if isinstance(item, list):\n",
    "            return super().__init__(item)\n",
    "        else:\n",
    "            return super().__init__([item])\n",
    "    \n",
    "    def __eq__(self, other):\n",
    "        \"\"\"Check for equality without concern for order.\n",
    "           If the sorted versions of two FunnyLists are the\n",
    "           same, then we deem the FunnyLists to be the same.\n",
    "        \"\"\"\n",
    "        return sorted(self) == sorted(other)\n",
    "\n",
    "    def __ne__(self, other):\n",
    "        return sorted(self) != sorted(other)\n",
    "\n",
    "    def __add__(self, thing):\n",
    "        \"\"\"Add to a FunnyList. Distinguish between adding a\n",
    "           list/FunnyList, and something else.\n",
    "        \"\"\"\n",
    "        if not isinstance(thing, list):\n",
    "            return FunnyList(super().__add__([thing]))\n",
    "\n",
    "        return FunnyList(super().__add__(thing))\n",
    "    \n",
    "    def __iadd__(self, thing):\n",
    "        \"\"\"Same as above except this is += instead of +.\"\"\"\n",
    "        if issubclass(thing.__class__, list):\n",
    "            return self + thing\n",
    "        else:\n",
    "            return self + [thing]"
   ]
  },
  {
   "cell_type": "code",
   "execution_count": null,
   "metadata": {},
   "outputs": [],
   "source": [
    "fl = FunnyList([1, 2])\n",
    "fl += 3\n",
    "fl, type(fl)"
   ]
  },
  {
   "cell_type": "code",
   "execution_count": null,
   "metadata": {},
   "outputs": [],
   "source": [
    "fl1 = FunnyList([1, 2, 3])\n",
    "fl2 = FunnyList([3, 2, 1])\n",
    "fl1 == fl2"
   ]
  },
  {
   "cell_type": "code",
   "execution_count": null,
   "metadata": {},
   "outputs": [],
   "source": [
    "f1 = FunnyList([1, 2, 3])\n",
    "f2 = FunnyList(4)\n",
    "f1 + f2"
   ]
  },
  {
   "cell_type": "code",
   "execution_count": null,
   "metadata": {},
   "outputs": [],
   "source": [
    "l1 = [1, 2, 3]\n",
    "l2 = [4, 5, 6]\n",
    "l1 + l2"
   ]
  },
  {
   "cell_type": "code",
   "execution_count": null,
   "metadata": {},
   "outputs": [],
   "source": [
    "f1 + 5"
   ]
  },
  {
   "cell_type": "code",
   "execution_count": null,
   "metadata": {},
   "outputs": [],
   "source": [
    "f1 = FunnyList(['list1'])\n",
    "f2 = FunnyList(2)\n",
    "f1, f2"
   ]
  },
  {
   "cell_type": "code",
   "execution_count": null,
   "metadata": {
    "scrolled": true
   },
   "outputs": [],
   "source": [
    "l1 + [5]"
   ]
  },
  {
   "cell_type": "markdown",
   "metadata": {
    "slideshow": {
     "slide_type": "subslide"
    }
   },
   "source": [
    "## Testing our sample class"
   ]
  },
  {
   "cell_type": "code",
   "execution_count": null,
   "metadata": {},
   "outputs": [],
   "source": [
    "!cat funnylist3.py"
   ]
  },
  {
   "cell_type": "code",
   "execution_count": null,
   "metadata": {},
   "outputs": [],
   "source": [
    "from funnylist3 import FunnyList\n",
    "import unittest # Python's unit test module\n",
    "\n",
    "class TestFunnyList(unittest.TestCase):\n",
    "    def setUp(self):\n",
    "        self.list1 = [1, 2, 3] # Python list\n",
    "        self.list2 = [3, 2, 1]\n",
    "        self.sclist = sorted(self.list1 + self.list2)\n",
    "        self.fl1 = FunnyList(self.list1)\n",
    "        self.fl2 = FunnyList(self.list2)\n",
    "    \n",
    "#     def test_init(self):\n",
    "#         self.assertEqual(self.fl1, self.list1) # should be same\n",
    "#         self.assertEqual(self.fl2, self.list2) # should be same\n",
    "        \n",
    "    def test_equal(self):\n",
    "        self.assertTrue(self.fl1 == self.fl2)\n",
    "\n",
    "#     def test_add_two(self):\n",
    "#         self.fl3 = self.fl1 + self.fl2\n",
    "#         self.assertEqual(sorted(self.fl3), self.sclist)\n",
    "\n",
    "#     def test_plus_equals_list(self):\n",
    "#         self.fl3 = self.fl1 + self.fl2\n",
    "#         self.fl1 += self.fl2\n",
    "#         self.assertEqual(self.fl3, self.fl1)\n",
    "   \n",
    "    def test_plus_obj(self):\n",
    "        self.list1.append(4)\n",
    "        self.fl1 = self.fl1 + 4\n",
    "        self.assertEqual(self.list1, self.fl1)\n",
    "\n",
    "#     def test_plus_equals_obj(self):\n",
    "#         self.list1.append(4)\n",
    "#         self.fl1 += 4\n",
    "#         self.assertEqual(self.list1, self.fl1)\n",
    "        \n",
    "'''command line run\n",
    "if __name__ == '__main__':\n",
    "    unittest.main()\n",
    "'''\n",
    "\n",
    "'''Jupyter run'''\n",
    "suite = unittest.TestLoader().loadTestsFromTestCase(TestFunnyList)\n",
    "unittest.TextTestRunner().run(suite)\n"
   ]
  },
  {
   "cell_type": "code",
   "execution_count": null,
   "metadata": {
    "scrolled": true
   },
   "outputs": [],
   "source": [
    "!cat testfunnylist.py"
   ]
  },
  {
   "cell_type": "code",
   "execution_count": null,
   "metadata": {},
   "outputs": [],
   "source": [
    "!python3 testfunnylist.py"
   ]
  },
  {
   "cell_type": "markdown",
   "metadata": {
    "slideshow": {
     "slide_type": "subslide"
    }
   },
   "source": [
    "## Test Coverage\n",
    "* before we hand off our code, we want to be sure all tests are passing\n",
    "* ...and we have 100% coverage"
   ]
  },
  {
   "cell_type": "code",
   "execution_count": null,
   "metadata": {},
   "outputs": [],
   "source": [
    "%%bash\n",
    "coverage run testfunnylist.py"
   ]
  },
  {
   "cell_type": "code",
   "execution_count": null,
   "metadata": {},
   "outputs": [],
   "source": [
    "%%bash\n",
    "coverage report -m"
   ]
  },
  {
   "cell_type": "code",
   "execution_count": null,
   "metadata": {},
   "outputs": [],
   "source": [
    "!cat -n funnylist.py"
   ]
  },
  {
   "cell_type": "markdown",
   "metadata": {
    "slideshow": {
     "slide_type": "subslide"
    }
   },
   "source": [
    "## Dirty Services\n",
    "* often, our code interacts with \"dirty\" services, i.e., those which have undesirable side effects\n",
    " * inserting into database\n",
    " * posting on the web\n",
    " * system calls / interact with OS\n",
    "* …as a developer, you care more that your code correctly called the system function for ejecting a CD rather than experiencing the CD tray open every time a test is run"
   ]
  },
  {
   "cell_type": "markdown",
   "metadata": {
    "slideshow": {
     "slide_type": "subslide"
    }
   },
   "source": [
    "## Mocking\n",
    "* to deal with these kinds of services, we can use the __`mock`__ subpackage of the __`unitttest`__ library\n",
    "* included as of Python 3.3…before that you need to download it via PyPI\n",
    "* a mock object is one that is substituted for a real object in a test case\n",
    "* unlike ordinary unit tests that assert on the state of an object, mock objects are used to test that interactions between multiple objects occurs as they should\n",
    "* writing test cases with mocks make our tests smarter, faster, and able to reveal more about how the software actually works"
   ]
  },
  {
   "cell_type": "markdown",
   "metadata": {
    "slideshow": {
     "slide_type": "subslide"
    }
   },
   "source": [
    "## Road to Mocking\n",
    "* let's consider a simple function to remove a file"
   ]
  },
  {
   "cell_type": "code",
   "execution_count": null,
   "metadata": {},
   "outputs": [],
   "source": [
    "# rm.py\n",
    "import os\n",
    "\n",
    "def rm(filename):\n",
    "    os.remove(filename)"
   ]
  },
  {
   "cell_type": "markdown",
   "metadata": {},
   "source": [
    "1. first we'll write a test that creates a file and ensures our function removes it\n",
    "2. then we'll create our own mock function to demonstrate mocking and explain how it works \"under the hood\"\n",
    "3. finally, we'll use unitest.mock"
   ]
  },
  {
   "cell_type": "markdown",
   "metadata": {
    "slideshow": {
     "slide_type": "subslide"
    }
   },
   "source": [
    "## Testing our simple `rm` function"
   ]
  },
  {
   "cell_type": "code",
   "execution_count": null,
   "metadata": {
    "scrolled": true
   },
   "outputs": [],
   "source": [
    "from rm import rm\n",
    "import os.path\n",
    "import tempfile\n",
    "import unittest\n",
    "\n",
    "class RmTestCase(unittest.TestCase):\n",
    "    def setUp(self):\n",
    "        self.tmpfilepath = os.path.join(tempfile.gettempdir(), \"tmp-testfile\")\n",
    "        with open(self.tmpfilepath, \"w\") as f:\n",
    "            f.write(\"Delete me!\")\n",
    "        \n",
    "    def test_rm(self):\n",
    "        # remove the file\n",
    "        rm(self.tmpfilepath)\n",
    "        # test that it was actually removed\n",
    "        self.assertFalse(os.path.isfile(self.tmpfilepath),\n",
    "                         \"Failed to remove the file.\")\n",
    "\n",
    "'''\n",
    "if __name__ == '__main__':\n",
    "    unittest.main()\n",
    "'''\n",
    "\n",
    "'''IPython run'''\n",
    "suite = unittest.TestLoader().loadTestsFromTestCase(RmTestCase)\n",
    "unittest.TextTestRunner().run(suite)"
   ]
  },
  {
   "cell_type": "markdown",
   "metadata": {
    "slideshow": {
     "slide_type": "subslide"
    }
   },
   "source": [
    "## Let's create our own mock object"
   ]
  },
  {
   "cell_type": "code",
   "execution_count": null,
   "metadata": {},
   "outputs": [],
   "source": [
    "class Mock(object):\n",
    "    def __init__(self, retval=None):\n",
    "        self.called = False # have we been called?\n",
    "        self.params = ()    # what params were sent to us?\n",
    "        self.retval = retval\n",
    "        \n",
    "    '''__call__() is a magic method that allows the object to\n",
    "    called like a function'''\n",
    "    def __call__(self, *args, **kwargs):\n",
    "        self.called = True\n",
    "        self.params = (args, kwargs)\n",
    "        return self.retval"
   ]
  },
  {
   "cell_type": "code",
   "execution_count": null,
   "metadata": {},
   "outputs": [],
   "source": [
    "from mymock import Mock\n",
    "m = Mock(593) # creates a Mock object, retval = 593\n",
    "m.called, m.retval, m.params"
   ]
  },
  {
   "cell_type": "code",
   "execution_count": null,
   "metadata": {},
   "outputs": [],
   "source": [
    "m('posparam1', 'posparam2', 'foo', x=5, Debug=True) # call the mock object like a function"
   ]
  },
  {
   "cell_type": "code",
   "execution_count": null,
   "metadata": {},
   "outputs": [],
   "source": [
    "m.called"
   ]
  },
  {
   "cell_type": "code",
   "execution_count": null,
   "metadata": {},
   "outputs": [],
   "source": [
    "m.params"
   ]
  },
  {
   "cell_type": "markdown",
   "metadata": {
    "slideshow": {
     "slide_type": "subslide"
    }
   },
   "source": [
    "## Using our mock object to avoid actually removing anything!"
   ]
  },
  {
   "cell_type": "code",
   "execution_count": null,
   "metadata": {},
   "outputs": [],
   "source": [
    "import unittest\n",
    "from mymock import Mock\n",
    "\n",
    "rm = Mock() # makes it so when I call rm,\n",
    "            # I'm actually calling the mock\n",
    "\n",
    "class RmTestCase(unittest.TestCase):\n",
    "    def setUp(self):\n",
    "        pass # no longer have to create a file\n",
    "    \n",
    "    def test_rm(self):\n",
    "        rm('tempfile') # call mocked rm\n",
    "        self.assertTrue(rm.called == True)\n",
    "        print('rm.params =', rm.params)\n",
    "        self.assertTrue(rm.params[0][0] == 'tempfile')\n",
    "\n",
    "# unittest.main()\n",
    "suite = unittest.TestLoader().loadTestsFromTestCase(RmTestCase)\n",
    "unittest.TextTestRunner().run(suite)"
   ]
  },
  {
   "cell_type": "markdown",
   "metadata": {
    "slideshow": {
     "slide_type": "subslide"
    }
   },
   "source": [
    "## Using unittest.mock"
   ]
  },
  {
   "cell_type": "code",
   "execution_count": null,
   "metadata": {
    "scrolled": true,
    "slideshow": {
     "slide_type": "-"
    }
   },
   "outputs": [],
   "source": [
    "from rm import rm # my rm function\n",
    "from unittest import mock\n",
    "import unittest\n",
    "\n",
    "class RmTestCase(unittest.TestCase):\n",
    "    # The @mock.patch decorator results in the target imported\n",
    "    # and the specified object is replaced with a new mock object\n",
    "    # ...and passed as an argument to the decorated function.\n",
    "    \n",
    "    # Note that we must patch rm where it is used (rm.os), not\n",
    "    # where it's from. So we will be creating a mock for the os\n",
    "    # module inside the rm module, and the created mock is passed\n",
    "    # to the decorated function.\n",
    "    # test_rm = mock.patch(test_rm, mocked_object)\n",
    "    @mock.patch('rm.os')\n",
    "    def test_rm(self, mock_os):\n",
    "        rm('foo')\n",
    "        # test that rm called os.remove with the right parameters\n",
    "        mock_os.remove.assert_called_with('foo')\n",
    "\n",
    "# unittest.main()\n",
    "suite = unittest.TestLoader().loadTestsFromTestCase(RmTestCase)\n",
    "unittest.TextTestRunner().run(suite)"
   ]
  },
  {
   "cell_type": "markdown",
   "metadata": {
    "slideshow": {
     "slide_type": "subslide"
    }
   },
   "source": [
    "## Let's make `rm` a little smarter"
   ]
  },
  {
   "cell_type": "code",
   "execution_count": null,
   "metadata": {},
   "outputs": [],
   "source": [
    "# rm2.py\n",
    "import os\n",
    "import os.path\n",
    "\n",
    "def rm(filename):\n",
    "    if os.path.isfile(filename):\n",
    "        os.remove(filename)"
   ]
  },
  {
   "cell_type": "code",
   "execution_count": null,
   "metadata": {},
   "outputs": [],
   "source": [
    "from rm2 import rm\n",
    "from unittest import mock\n",
    "import unittest\n",
    "\n",
    "class RmTestCase(unittest.TestCase):\n",
    "    # test_rm = mock.patch(mock.patch(test_rm, mock for 'rm2.os'), mock for 'rm2.os.path')\n",
    "    @mock.patch('rm2.os.path')\n",
    "    @mock.patch('rm2.os')\n",
    "    def test_rm(self, mock_os, mock_path):\n",
    "        mock_path.isfile.return_value = False\n",
    "        \n",
    "        rm('any path')\n",
    "        \n",
    "        self.assertFalse(mock_os.remove.called, ''' \n",
    "                Tried to remove when file not present.''')\n",
    "        # make the file 'exist'\n",
    "        mock_path.isfile.return_value = True\n",
    "        \n",
    "        rm('any path')\n",
    "        mock_os.remove.assert_called_with('any path')\n",
    "\n",
    "# unittest.main()\n",
    "suite = unittest.TestLoader().loadTestsFromTestCase(RmTestCase)\n",
    "unittest.TextTestRunner().run(suite)"
   ]
  },
  {
   "cell_type": "markdown",
   "metadata": {
    "slideshow": {
     "slide_type": "subslide"
    }
   },
   "source": [
    "## What about mocks for objects?"
   ]
  },
  {
   "cell_type": "code",
   "execution_count": null,
   "metadata": {},
   "outputs": [],
   "source": [
    "import os\n",
    "import os.path\n",
    "\n",
    "class RemovalService():\n",
    "    '''A service for removing objects from the filesystem'''\n",
    "\n",
    "    def rm(self, filename):\n",
    "        if os.path.isfile(filename):\n",
    "            os.remove(filename)\n",
    "            \n",
    "class UploadService():\n",
    "    '''Upload a file and remove it once the upload is complete'''\n",
    "    \n",
    "    def __init__(self, removal_service):\n",
    "        self.removal_service = removal_service\n",
    "        \n",
    "    def upload_complete(self, filename):\n",
    "        self.removal_service.rm(filename)"
   ]
  },
  {
   "cell_type": "markdown",
   "metadata": {
    "slideshow": {
     "slide_type": "subslide"
    }
   },
   "source": [
    "## ...now we have a file removal service and an upload service that depends on it\n",
    "* how do we test __`UploadService`__?\n",
    " 1. either mock out the __`RemovalService.rm`__ method itself\n",
    " 2. OR supply a mocked instance in the constructor of __`UploadService`__"
   ]
  },
  {
   "cell_type": "markdown",
   "metadata": {},
   "source": [
    "## Option 1: mock out method itself using `@mock.patch.object`"
   ]
  },
  {
   "cell_type": "code",
   "execution_count": null,
   "metadata": {},
   "outputs": [],
   "source": [
    "from services import RemovalService, UploadService\n",
    "from unittest import mock\n",
    "import unittest\n",
    "\n",
    "class UploadServiceTestCase(unittest.TestCase):\n",
    "    # mock out \n",
    "    @mock.patch.object(RemovalService, 'rm')\n",
    "    def test_upload_complete(self, mock_rm):\n",
    "        # when we create a RemovalService object...\n",
    "        # ...the rm method will automatically be mocked\n",
    "        removal_service = RemovalService()\n",
    "\n",
    "        ref = UploadService(removal_service)\n",
    "\n",
    "        # call upload_complete, which should, in turn, call `rm`:\n",
    "        ref.upload_complete(\"my uploaded file\")\n",
    "        \n",
    "        # check that it called the rm method of any RemovalService\n",
    "        #mock_rm.assert_called_with(\"my uploaded file\")\n",
    "        \n",
    "        # check that it called the rm method of _our_ removal_service\n",
    "        removal_service.rm.assert_called_with(\"my uploaded file\")\n",
    "\n",
    "# unittest.main()\n",
    "suite = unittest.TestLoader().loadTestsFromTestCase(UploadServiceTestCase)\n",
    "unittest.TextTestRunner().run(suite)"
   ]
  },
  {
   "cell_type": "markdown",
   "metadata": {
    "slideshow": {
     "slide_type": "subslide"
    }
   },
   "source": [
    "## Option 2: supply a mocked instance to UploadService"
   ]
  },
  {
   "cell_type": "code",
   "execution_count": null,
   "metadata": {},
   "outputs": [],
   "source": [
    "from services import RemovalService, UploadService\n",
    "from unittest import mock\n",
    "import unittest\n",
    "\n",
    "class UploadServiceTestCase(unittest.TestCase):\n",
    "    def test_upload_complete(self):\n",
    "        # build our dependencies\n",
    "        mock_removal_service = mock.create_autospec(RemovalService)\n",
    "        ref = UploadService(mock_removal_service)\n",
    "        \n",
    "        # call upload_complete, which should, in turn, call `rm`:\n",
    "        ref.upload_complete(\"my uploaded file\")\n",
    "        \n",
    "        # test that it called the rm method\n",
    "        mock_removal_service.rm.assert_called_with(\"my uploaded file\")\n",
    "\n",
    "#unittest.main()\n",
    "suite = unittest.TestLoader().loadTestsFromTestCase(UploadServiceTestCase)\n",
    "unittest.TextTestRunner().run(suite)"
   ]
  },
  {
   "cell_type": "markdown",
   "metadata": {
    "slideshow": {
     "slide_type": "subslide"
    }
   },
   "source": [
    "## autospec"
   ]
  },
  {
   "cell_type": "code",
   "execution_count": null,
   "metadata": {},
   "outputs": [],
   "source": [
    "from unittest.mock import Mock\n",
    "\n",
    "def function(a, b, c):\n",
    "    # ...\n",
    "    return \"foo\"\n",
    "\n",
    "mockfunc = Mock()\n",
    "mockfunc(1, 2, 3)"
   ]
  },
  {
   "cell_type": "code",
   "execution_count": null,
   "metadata": {},
   "outputs": [],
   "source": [
    "mockfunc.called"
   ]
  },
  {
   "cell_type": "code",
   "execution_count": null,
   "metadata": {},
   "outputs": [],
   "source": [
    "mockfunc.call_args"
   ]
  },
  {
   "cell_type": "code",
   "execution_count": null,
   "metadata": {},
   "outputs": [],
   "source": [
    "# ...but we need not call the function with the correct number of args\n",
    "mockfunc(1)\n",
    "mockfunc.call_args"
   ]
  },
  {
   "cell_type": "code",
   "execution_count": null,
   "metadata": {},
   "outputs": [],
   "source": [
    "from unittest.mock import create_autospec\n",
    "mockfunc = create_autospec(function, return_value='foo')\n",
    "mockfunc(1, 2, 3)"
   ]
  },
  {
   "cell_type": "markdown",
   "metadata": {
    "slideshow": {
     "slide_type": "subslide"
    }
   },
   "source": [
    "## Lab: Unittest/Mocking\n",
    "1. Write at least two unit tests for the Word class in Notebook 02.\n",
    "2. Write a method which interacts with a not-yet-implemented library function named foo(), which takes exactly 2 arguments and returns the sum of those arguments. Use an autospec-ed mock in place of foo().\n",
    "2. Using the examples as a template, create a method which changes the permissions (__`os.chmod()`__) on a file, and use mocks to avoid actually changing a file's permissions"
   ]
  },
  {
   "cell_type": "code",
   "execution_count": null,
   "metadata": {
    "jupyter": {
     "source_hidden": true
    }
   },
   "outputs": [],
   "source": []
  }
 ],
 "metadata": {
  "kernelspec": {
   "display_name": "Python 3",
   "language": "python",
   "name": "python3"
  },
  "language_info": {
   "codemirror_mode": {
    "name": "ipython",
    "version": 3
   },
   "file_extension": ".py",
   "mimetype": "text/x-python",
   "name": "python",
   "nbconvert_exporter": "python",
   "pygments_lexer": "ipython3",
   "version": "3.8.5"
  }
 },
 "nbformat": 4,
 "nbformat_minor": 4
}