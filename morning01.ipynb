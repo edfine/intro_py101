{
 "cells": [
  {
   "cell_type": "markdown",
   "metadata": {},
   "source": [
    "# Python 101\n",
    "\n",
    "<pre><b>\n",
    "  Edward Fine\n",
    "  edward.fine@afinepoint.net\n",
    "  650-400-3437\n",
    "  Class Time: 9-noon, 1-4\n",
    "  Lunch: noon - 1\n",
    "  5-10 min. break every hour\n",
    "<b></pre>"
   ]
  },
  {
   "cell_type": "markdown",
   "metadata": {},
   "source": [
    "Download materials from\n",
    "https://bit.ly/py101v01"
   ]
  },
  {
   "cell_type": "markdown",
   "metadata": {},
   "source": [
    "# About You and Me\n",
    "## Put your name in your zoom description"
   ]
  },
  {
   "cell_type": "markdown",
   "metadata": {},
   "source": [
    "# Today's Agenda\n",
    "* Orientation and Class Expectations (you are here)\n",
    "* Syntax Review from Giraffe academy\n",
    "* Sequences and Iteration\n",
    "* Reading/writing to files"
   ]
  },
  {
   "cell_type": "markdown",
   "metadata": {},
   "source": [
    "## Course Overview: Where we are headed\n",
    "### Morning Session 1:\n",
    "\n",
    "* Orientation and Class Expectations\n",
    "* Getting Started - Core Python Syntax Review\n",
    "* Sequences and Iteration\n",
    "* Reading/writing to files\n",
    "\n",
    "### Afternoon Session 1:\n",
    "* Practice in manipulating data: Manipulating finance data\n",
    "\n",
    "### Morning Session 2:\n",
    "* String Formatting and Manipulation\n",
    "* Dictionaries and Sets\n",
    "\n",
    "### Afternoon Session 2:\n",
    "* Investigations with COVID-19 research papers\n",
    "\n",
    "### Morning Session 3:\n",
    "* Exception Handling with Python\n",
    "* Reading/writing to database (SQLite for class)\n",
    "* Unit testing introduction\n",
    "\n",
    "### Afternoon Session 3:\n",
    "* Exceptions and taking exception: US Consumer finance complaints\n",
    "\n",
    "### Morning Session 4:\n",
    "* Consuming REST API via Python\n",
    "* OO -- Properties, Special methods\n",
    "* Writing testable code\n",
    "\n",
    "### Afternoon Session 4:\n",
    "* Consuming API data.  Examining data from Github, Petfinder and many more\n"
   ]
  },
  {
   "cell_type": "markdown",
   "metadata": {},
   "source": [
    "# Syntax review"
   ]
  },
  {
   "cell_type": "markdown",
   "metadata": {},
   "source": [
    "### P R I N T I N G"
   ]
  },
  {
   "cell_type": "code",
   "execution_count": null,
   "metadata": {
    "tags": []
   },
   "outputs": [],
   "source": [
    "print(\"Good day\")"
   ]
  },
  {
   "cell_type": "markdown",
   "metadata": {
    "tags": []
   },
   "source": [
    "### Variables and data types\n",
    "Q: what are some of the python built in data types?"
   ]
  },
  {
   "cell_type": "code",
   "execution_count": null,
   "metadata": {},
   "outputs": [],
   "source": [
    "x1 = 5.873\n",
    "x1"
   ]
  },
  {
   "cell_type": "markdown",
   "metadata": {},
   "source": [
    "### Casting\n",
    "In the cells below, turn x1 into two different types.  Does it's meaning change to you?"
   ]
  },
  {
   "cell_type": "code",
   "execution_count": null,
   "metadata": {},
   "outputs": [],
   "source": []
  },
  {
   "cell_type": "code",
   "execution_count": null,
   "metadata": {},
   "outputs": [],
   "source": []
  },
  {
   "cell_type": "code",
   "execution_count": null,
   "metadata": {},
   "outputs": [],
   "source": []
  },
  {
   "cell_type": "markdown",
   "metadata": {},
   "source": [
    "## Extension: Variables/Typing\n",
    "* no declarations\n",
    "* basic data types are __int, float, string, boolean__\n",
    "* everything is an object (keep this in mind)\n",
    "* dynamically typed"
   ]
  },
  {
   "cell_type": "code",
   "execution_count": null,
   "metadata": {
    "tags": []
   },
   "outputs": [],
   "source": [
    "pi = 3.14159\n",
    "x2 = 24.99\n",
    "print(x2)\n",
    "print(pi)"
   ]
  },
  {
   "cell_type": "code",
   "execution_count": null,
   "metadata": {
    "tags": []
   },
   "outputs": [],
   "source": [
    "print(x2)\n",
    "x2 = 'Prince' # Hey look, we are using Dynamic Typing!\n",
    "x2"
   ]
  },
  {
   "cell_type": "markdown",
   "metadata": {},
   "source": [
    "## Strongly typed!"
   ]
  },
  {
   "cell_type": "code",
   "execution_count": null,
   "metadata": {},
   "outputs": [],
   "source": [
    "\"Prince wrote a song called \" + 1999"
   ]
  },
  {
   "cell_type": "markdown",
   "metadata": {},
   "source": [
    "# Lab: Variables/Typing\n",
    "* in the Python shell, IDLE, Jupyter, etc., type in the following and be sure you understand strong typing and dynamic typing\n",
    "\n",
    "<pre><b>\n",
    "i = 1\n",
    "f = 1.4\n",
    "b = True\n",
    "s = 'True'\n",
    "b = 5\n",
    "s + b\n",
    "</b></pre>"
   ]
  },
  {
   "cell_type": "markdown",
   "metadata": {},
   "source": [
    "### Strings "
   ]
  },
  {
   "cell_type": "code",
   "execution_count": null,
   "metadata": {},
   "outputs": [],
   "source": [
    "s1 = \"This is a string.\"\n",
    "s2 = 'This is too!'\n",
    "s3 = \"Didn't you know a string could have and ', did you?\"\n",
    "s4 = \"\"\"Multi-line strings \n",
    "can be very\n",
    "handy.  \n",
    "They are most frequently \n",
    "used in function's or class's doc strings.\n",
    "\"\"\""
   ]
  },
  {
   "cell_type": "code",
   "execution_count": null,
   "metadata": {
    "tags": []
   },
   "outputs": [],
   "source": [
    "print(s4)"
   ]
  },
  {
   "cell_type": "markdown",
   "metadata": {},
   "source": [
    "## Indexing Strings with __`[]`__\n",
    "* access a single character via its offset\n",
    "* easier to think of offset as opposed to index\n",
    "* negative offsets count from end of string"
   ]
  },
  {
   "cell_type": "code",
   "execution_count": null,
   "metadata": {},
   "outputs": [],
   "source": [
    "alphabet = 'abcdefghijklmnopqrstuvwxyz'\n",
    "alphabet[0]"
   ]
  },
  {
   "cell_type": "code",
   "execution_count": null,
   "metadata": {},
   "outputs": [],
   "source": [
    "alphabet[25]"
   ]
  },
  {
   "cell_type": "code",
   "execution_count": null,
   "metadata": {},
   "outputs": [],
   "source": [
    "alphabet[-1]"
   ]
  },
  {
   "cell_type": "code",
   "execution_count": null,
   "metadata": {},
   "outputs": [],
   "source": [
    "alphabet[-26]"
   ]
  },
  {
   "cell_type": "markdown",
   "metadata": {},
   "source": [
    "### Arithmetic\n",
    "+\n",
    "\n",
    "-\n",
    "\n",
    "*\n",
    "\n",
    "/\n",
    "\n",
    "More unusual ones\n",
    "**\n",
    "% this one is modulus, or what in school you called remainder\n",
    "// this is the whole number (integer) division without the remainder"
   ]
  },
  {
   "cell_type": "code",
   "execution_count": null,
   "metadata": {},
   "outputs": [],
   "source": [
    "# There is also a way to get the quotient and remainder\n",
    "quot, rem = divmod(9, 5)\n",
    "print(quot)\n",
    "print(rem)"
   ]
  },
  {
   "cell_type": "markdown",
   "metadata": {},
   "source": [
    "## Lists\n",
    "\n",
    "Our first compound data structure.\n"
   ]
  },
  {
   "cell_type": "code",
   "execution_count": null,
   "metadata": {},
   "outputs": [],
   "source": [
    "l1 = ['a', 75, 66.104, 'LilNasX']\n",
    "l1"
   ]
  },
  {
   "cell_type": "code",
   "execution_count": null,
   "metadata": {},
   "outputs": [],
   "source": [
    "l2 = [l1, l1[3], [], [[65, 72], [89, 93]]]\n",
    "l2"
   ]
  },
  {
   "cell_type": "markdown",
   "metadata": {},
   "source": [
    "Exercise: Get the 72 out of l2.  "
   ]
  },
  {
   "cell_type": "code",
   "execution_count": null,
   "metadata": {},
   "outputs": [],
   "source": [
    "# Answer goes here:\n"
   ]
  },
  {
   "cell_type": "markdown",
   "metadata": {},
   "source": [
    "## List Methods\n",
    "\n",
    "We have seen already:\n",
    "* append\n",
    "* insert\n",
    "* count\n",
    "* clear\n",
    "* sort\n",
    "\n",
    "But there are many more:"
   ]
  },
  {
   "cell_type": "code",
   "execution_count": null,
   "metadata": {},
   "outputs": [],
   "source": [
    "dir(l2)"
   ]
  },
  {
   "cell_type": "markdown",
   "metadata": {},
   "source": [
    "We will learn about more of these as we continue.  But if you want to learn about a method, you can try the following:"
   ]
  },
  {
   "cell_type": "code",
   "execution_count": null,
   "metadata": {
    "tags": []
   },
   "outputs": [],
   "source": [
    "help(l2.extend)"
   ]
  },
  {
   "cell_type": "code",
   "execution_count": null,
   "metadata": {},
   "outputs": [],
   "source": [
    "l2.extend([1, 2, 3, 4])\n",
    "l2"
   ]
  },
  {
   "cell_type": "code",
   "execution_count": null,
   "metadata": {},
   "outputs": [],
   "source": [
    "l2.extend('Elmo loves you! ' * 3)\n",
    "l2"
   ]
  },
  {
   "cell_type": "markdown",
   "metadata": {},
   "source": [
    "### More help:\n",
    "Q: What are some other ways you can get information about a python method or function?\n",
    "\n",
    "Help also works on strings:\n"
   ]
  },
  {
   "cell_type": "code",
   "execution_count": null,
   "metadata": {
    "tags": []
   },
   "outputs": [],
   "source": [
    "help(str)"
   ]
  },
  {
   "cell_type": "code",
   "execution_count": null,
   "metadata": {
    "tags": []
   },
   "outputs": [],
   "source": [
    "# But it doesn't work on an individual variable that is a string\n",
    "help(alphabet)"
   ]
  },
  {
   "cell_type": "code",
   "execution_count": null,
   "metadata": {
    "tags": []
   },
   "outputs": [],
   "source": [
    "# help works on methods, functions and classes\n",
    "help(alphabet.upper)"
   ]
  },
  {
   "cell_type": "markdown",
   "metadata": {},
   "source": [
    "# `if` statements\n",
    "* similar to if statements in other languages\n",
    "* no parens needed\n",
    "* elif = else if"
   ]
  },
  {
   "cell_type": "code",
   "execution_count": null,
   "metadata": {
    "tags": []
   },
   "outputs": [],
   "source": [
    "my_number = 37\n",
    "guess = int(input('Enter your guess: '))\n",
    "\n",
    "if guess > my_number:\n",
    "    print('Guess was too high')\n",
    "elif guess < my_number:\n",
    "    print('Guess was too low')\n",
    "else:\n",
    "    print('You got it!')"
   ]
  },
  {
   "cell_type": "markdown",
   "metadata": {},
   "source": [
    "# Comparison Operators\n",
    "\n",
    "These all work with boolean expresions, meaning they are either True or False\n",
    "\n",
    "| operator | meaning |\n",
    "|---|---|\n",
    "| == | equality  |\n",
    "| != | inequality|\n",
    "| < | less than |\n",
    "| <= | less than or equals |\n",
    "| > | greater than |\n",
    "| >= | greater than or equals |\n",
    "| in | membership |\n",
    "| and | logical and |\n",
    "| or | logical or |"
   ]
  },
  {
   "cell_type": "code",
   "execution_count": null,
   "metadata": {},
   "outputs": [],
   "source": [
    "x3 = 7"
   ]
  },
  {
   "cell_type": "code",
   "execution_count": null,
   "metadata": {},
   "outputs": [],
   "source": [
    "5 < x3"
   ]
  },
  {
   "cell_type": "code",
   "execution_count": null,
   "metadata": {},
   "outputs": [],
   "source": [
    "x3 < 9"
   ]
  },
  {
   "cell_type": "code",
   "execution_count": null,
   "metadata": {},
   "outputs": [],
   "source": [
    "5 < x3 and x3 < 9"
   ]
  },
  {
   "cell_type": "code",
   "execution_count": null,
   "metadata": {},
   "outputs": [],
   "source": [
    "(5 < x3) and (x3 < 9)"
   ]
  },
  {
   "cell_type": "code",
   "execution_count": null,
   "metadata": {},
   "outputs": [],
   "source": [
    "5 < x3 < 9 # This one is very pythonic"
   ]
  },
  {
   "cell_type": "markdown",
   "metadata": {},
   "source": [
    "## Loops\n",
    "* do something repeatedly\n",
    "* two kinds of loops in Python\n",
    " * __`while`__ loops (\"do something until a condition becomes false\")\n",
    " * __`for`__ loops (\"do something a certain number of times\")"
   ]
  },
  {
   "cell_type": "markdown",
   "metadata": {},
   "source": [
    "### `while` loop example"
   ]
  },
  {
   "cell_type": "code",
   "execution_count": null,
   "metadata": {
    "tags": []
   },
   "outputs": [],
   "source": [
    "import random # batteries included\n",
    "# what do you think the line below does?\n",
    "my_number = random.randint(1, 100)\n",
    "guess = 0\n",
    "\n",
    "# loop until...?\n",
    "while guess != my_number:\n",
    "    guess = int(input(\"Your guess (0 to give up)? \"))\n",
    "    if guess == 0:\n",
    "        print(\"Sorry that you're giving up!\")\n",
    "        break # abnormal termination\n",
    "    elif guess > my_number:\n",
    "        print(\"Guess was too high\")\n",
    "    elif guess < my_number:\n",
    "        print(\"Guess was too low\")\n",
    "else: # non-break ends up here\n",
    "    print(\"Congratulations. You guessed it!\")\n",
    "# break ends up here        \n",
    "print('done')"
   ]
  },
  {
   "cell_type": "markdown",
   "metadata": {},
   "source": [
    "## `for` loop example\n",
    "* typically used to cycle through an _iterable_ (string, list, range, tuples, etc.) one element at a time"
   ]
  },
  {
   "cell_type": "code",
   "execution_count": null,
   "metadata": {
    "tags": []
   },
   "outputs": [],
   "source": [
    "for letter in 'Python':\n",
    "    print(letter)"
   ]
  },
  {
   "cell_type": "code",
   "execution_count": null,
   "metadata": {
    "tags": []
   },
   "outputs": [],
   "source": [
    "# Did you know you could do this?\n",
    "for num in range(100, -1, -2):\n",
    "    print(num, end=' ') "
   ]
  },
  {
   "cell_type": "markdown",
   "metadata": {},
   "source": [
    "## Lab: Loops/Strings\n",
    "* have the user enter a string, then loop through the string to generate a new string in which every character is duplicated, e.g., \"hello\" => \"hheelllloo\" \n",
    "\n",
    "* Can you put your solution into a .py file and run it?"
   ]
  },
  {
   "cell_type": "markdown",
   "metadata": {},
   "source": [
    "##  Lab: Loops\n",
    "1. Loop through the numbers from 2 to 25 and print out which numbers are prime, and for those numbers which are not prime numbers, you should print them as a product of two factors.  Hint: a number is NOT prime if it has a factor that divides it evenly (with no remainder), for all numbers in between 1 and the number.  \n",
    "2. Remember that prime = no divisors other than 1 and itself.  \n",
    "Hint: Try to find the numbers that are not prime and then the others are prime. \n",
    "\n",
    "![alt-text](images/prime.png \"Prime output\")"
   ]
  },
  {
   "cell_type": "markdown",
   "metadata": {},
   "source": [
    "## Loops: Recap\n",
    "* __`for`__ loop is more common\n",
    "* __`break`__ exits loop immediately\n",
    "* __`continue`__ skips remainder of loop and starts next iteration (this one is rare)\n",
    "* __`else`__ is executed if loop terminates normally (i.e., no __`break`__)"
   ]
  },
  {
   "cell_type": "code",
   "execution_count": null,
   "metadata": {},
   "outputs": [],
   "source": [
    "## \"Pythonic\""
   ]
  },
  {
   "cell_type": "code",
   "execution_count": null,
   "metadata": {},
   "outputs": [],
   "source": []
  },
  {
   "cell_type": "markdown",
   "metadata": {
    "slideshow": {
     "slide_type": "subslide"
    }
   },
   "source": [
    "## File I/O\n",
    "* __`fileobj = open(filename, mode)`__\n",
    "* mode is one or two letters\n",
    "  * r = read\n",
    "  * r+ = open for reading and writing\n",
    "  * w = write (create/overwrite)\n",
    "  * x = write, but only if file does not already exist\n",
    "  * a = append, if file exists (unless a+, then create)\n",
    "* second letter =\n",
    "  * t = text file (default)\n",
    "  * b = binary\n",
    "* __`fileobj.close()`__"
   ]
  },
  {
   "cell_type": "markdown",
   "metadata": {
    "slideshow": {
     "slide_type": "subslide"
    }
   },
   "source": [
    "## File I/O: Open/Close"
   ]
  },
  {
   "cell_type": "code",
   "execution_count": null,
   "metadata": {},
   "outputs": [],
   "source": [
    "f = open('/tmp/test.txt', 'r')"
   ]
  },
  {
   "cell_type": "code",
   "execution_count": null,
   "metadata": {},
   "outputs": [],
   "source": [
    "f = open('/tmp/test.txt', 'w')\n",
    "f.close()"
   ]
  },
  {
   "cell_type": "code",
   "execution_count": null,
   "metadata": {},
   "outputs": [],
   "source": [
    "!ls -l /tmp/*.txt"
   ]
  },
  {
   "cell_type": "code",
   "execution_count": null,
   "metadata": {},
   "outputs": [],
   "source": [
    "!pwd"
   ]
  },
  {
   "cell_type": "code",
   "execution_count": null,
   "metadata": {},
   "outputs": [],
   "source": [
    "f = open('/tmp/test.txt', 'x')"
   ]
  },
  {
   "cell_type": "markdown",
   "metadata": {
    "slideshow": {
     "slide_type": "subslide"
    }
   },
   "source": [
    "## File I/O: Read/Write"
   ]
  },
  {
   "cell_type": "code",
   "execution_count": null,
   "metadata": {},
   "outputs": [],
   "source": [
    "poem = '''TWO roads diverged in a yellow wood,\n",
    "And sorry I could not travel both\n",
    "And be one traveler, long I stood\n",
    "And looked down one as far as I could\n",
    "To where it bent in the undergrowth;\n",
    "\n",
    "Then took the other, as just as fair,\n",
    "And having perhaps the better claim,\n",
    "Because it was grassy and wanted wear;\n",
    "Though as for that the passing there\n",
    "Had worn them really about the same,\n",
    "\n",
    "And both that morning equally lay\n",
    "In leaves no step had trodden black.\n",
    "Oh, I kept the first for another day!\n",
    "Yet knowing how way leads on to way,\n",
    "I doubted if I should ever come back.\n",
    "\n",
    "I shall be telling this with a sigh\n",
    "Somewhere ages and ages hence:\n",
    "Two roads diverged in a wood, and I—\n",
    "I took the one less traveled by,\n",
    "And that has made all the difference.'''\n",
    "\n",
    "len(poem)"
   ]
  },
  {
   "cell_type": "code",
   "execution_count": null,
   "metadata": {},
   "outputs": [],
   "source": [
    "f = open('/tmp/poem.txt', 'w')\n",
    "f.write(poem)"
   ]
  },
  {
   "cell_type": "code",
   "execution_count": null,
   "metadata": {},
   "outputs": [],
   "source": [
    "f.close()"
   ]
  },
  {
   "cell_type": "code",
   "execution_count": null,
   "metadata": {},
   "outputs": [],
   "source": [
    "f = open('/tmp/poem.txt')\n",
    "poem2 = f.read()\n",
    "f.close()"
   ]
  },
  {
   "cell_type": "code",
   "execution_count": null,
   "metadata": {},
   "outputs": [],
   "source": [
    "poem == poem2"
   ]
  },
  {
   "cell_type": "markdown",
   "metadata": {
    "slideshow": {
     "slide_type": "subslide"
    }
   },
   "source": [
    "## File I/O: __`write()`__ vs. __`print()`__\n"
   ]
  },
  {
   "cell_type": "code",
   "execution_count": null,
   "metadata": {},
   "outputs": [],
   "source": [
    "f = open('/tmp/poem.txt', 'w')\n",
    "print(poem, file=f)\n",
    "f.close()"
   ]
  },
  {
   "cell_type": "code",
   "execution_count": null,
   "metadata": {},
   "outputs": [],
   "source": [
    "f = open('/tmp/poem.txt')\n",
    "poem2 = f.read()\n",
    "f.close()"
   ]
  },
  {
   "cell_type": "code",
   "execution_count": null,
   "metadata": {},
   "outputs": [],
   "source": [
    "poem == poem2"
   ]
  },
  {
   "cell_type": "code",
   "execution_count": null,
   "metadata": {},
   "outputs": [],
   "source": [
    "len(poem2)"
   ]
  },
  {
   "cell_type": "markdown",
   "metadata": {
    "slideshow": {
     "slide_type": "subslide"
    }
   },
   "source": [
    "## __`print(*objects, sep=' ', end='\\n', file=sys.stdout, flush=False)`__\n",
    "* __`sep`__ = separator (default is space)\n",
    "* __`end`__ = what to print at end (default is newline)\n",
    "* __`file`__ = where to print, default is screen\n",
    "* __`flush`__ = whether to flush output buffer, default is no"
   ]
  },
  {
   "cell_type": "code",
   "execution_count": null,
   "metadata": {},
   "outputs": [],
   "source": [
    "poem2"
   ]
  },
  {
   "cell_type": "code",
   "execution_count": null,
   "metadata": {},
   "outputs": [],
   "source": [
    "poem"
   ]
  },
  {
   "cell_type": "markdown",
   "metadata": {
    "slideshow": {
     "slide_type": "subslide"
    }
   },
   "source": [
    "## File I/O: How to Read Data\n",
    "* __`read()`__: slurps up entire file at once\n",
    "  * __`read(x)`__ reads a most __`x`__ bytes\n",
    "* __`readline()`__: reads a line at a time\n",
    "* __`readlines()`__ reads a line at a time and returns the lines as a list of strings\n",
    "* or use an iterator…"
   ]
  },
  {
   "cell_type": "code",
   "execution_count": null,
   "metadata": {},
   "outputs": [],
   "source": [
    "poem = ''\n",
    "f = open('/tmp/poem.txt')\n",
    "for line in f:\n",
    "    poem += line\n",
    "f.close()"
   ]
  },
  {
   "cell_type": "code",
   "execution_count": null,
   "metadata": {},
   "outputs": [],
   "source": [
    "print(poem)"
   ]
  },
  {
   "cell_type": "markdown",
   "metadata": {
    "slideshow": {
     "slide_type": "subslide"
    }
   },
   "source": [
    "## File I/O: __`with`__ statement\n",
    "* the __`with`__ statement sets up a temporary \"context\" and closes the file automatically so we don't have to bother with closing it"
   ]
  },
  {
   "cell_type": "code",
   "execution_count": null,
   "metadata": {
    "scrolled": true
   },
   "outputs": [],
   "source": [
    "with open('/tmp/poem.txt', 'r') as f1:\n",
    "    poem2 = f1.read()\n",
    "    # at this point file is open\n",
    "    print('in with, f1.closed =', f1.closed)"
   ]
  },
  {
   "cell_type": "code",
   "execution_count": null,
   "metadata": {},
   "outputs": [],
   "source": [
    "poem == poem2"
   ]
  },
  {
   "cell_type": "code",
   "execution_count": null,
   "metadata": {},
   "outputs": [],
   "source": [
    "f1.closed"
   ]
  },
  {
   "cell_type": "markdown",
   "metadata": {
    "slideshow": {
     "slide_type": "subslide"
    }
   },
   "source": [
    "## Lab: File I/O\n",
    "* write a Python program which prompts the user for a filename, then opens that file and writes the contents of the file to a new file, in reverse order, i.e.,\n",
    "\n",
    "<pre><b>\n",
    "    Original file       Reversed file\n",
    "    Line 1              Line 4\n",
    "    Line 2              Line 3\n",
    "    Line 3              Line 2\n",
    "    Line 4              Line 1\n",
    "</b></pre>"
   ]
  },
  {
   "cell_type": "code",
   "execution_count": null,
   "metadata": {},
   "outputs": [],
   "source": [
    "with open('hamlet.txt', 'r') as fham:\n",
    "    lham = fham.readlines()\n",
    "lham.sort(reverse=True)\n",
    "with open('telmah.txt', 'w') as fhamr:\n",
    "    print(lham, file=fhamr, end='')"
   ]
  },
  {
   "cell_type": "markdown",
   "metadata": {
    "slideshow": {
     "slide_type": "subslide"
    }
   },
   "source": [
    "## Lab: File I/O + dicts\n",
    "* write a Python program to read a file and count the number of occurrences of each word in the file\n",
    "* use a dict, indexed by word, to count the occurrences\n",
    "* remember __`d.get(key)`__ will return __`None`__ if there is no such key in the dict (vs. __`d[key]`__ which will throw an exception) and also the __`in`__ operator\n",
    "* treat __The__ and __the__ as the same word when counting\n",
    "* print out words and counts, from most common to least common\n",
    "* EXTRA: remove punctuation, so __Hamlet,__ == __Hamlet__\n",
    "* Road Not Taken and Hamlet are in your materials"
   ]
  },
  {
   "cell_type": "markdown",
   "metadata": {
    "slideshow": {
     "slide_type": "subslide"
    }
   },
   "source": [
    "## File I/O: recap\n",
    "* __`open()`__ returns file object\n",
    "* __`close()`__ closes the file\n",
    "* __`read()`__ reads bytes\n",
    "* __`readline()`__ reads a line at a time\n",
    "* __`readlines()`__ reads all lines–shouldn't be used\n",
    "* can also iterate through a file object a line at a time\n",
    "* __`with`__ statement sets up a temporary context (block) for file I/O and automatically closes file when block is exited"
   ]
  },
  {
   "cell_type": "markdown",
   "metadata": {
    "slideshow": {
     "slide_type": "subslide"
    }
   },
   "source": [
    "## \"Pythonic\""
   ]
  },
  {
   "cell_type": "code",
   "execution_count": null,
   "metadata": {},
   "outputs": [],
   "source": [
    "stooges = ['Shemp', 'Moe', 'Larry', 'Curly']"
   ]
  },
  {
   "cell_type": "code",
   "execution_count": null,
   "metadata": {},
   "outputs": [],
   "source": [
    "i = 0\n",
    "for stooge in stooges:\n",
    "    print('index', i, 'is', stooge)\n",
    "    i += 1"
   ]
  },
  {
   "cell_type": "markdown",
   "metadata": {
    "slideshow": {
     "slide_type": "subslide"
    }
   },
   "source": [
    "## __`enumerate()`__\n",
    "* a builtin function which associates an index with each item in an iterable\n",
    "* returns an _enumerate_ object\n"
   ]
  },
  {
   "cell_type": "code",
   "execution_count": null,
   "metadata": {},
   "outputs": [],
   "source": [
    "for index, stooge in enumerate(stooges):\n",
    "    print(f'index {index} is {stooge}')"
   ]
  },
  {
   "cell_type": "code",
   "execution_count": null,
   "metadata": {},
   "outputs": [],
   "source": [
    "type(enumerate(stooges))"
   ]
  },
  {
   "cell_type": "markdown",
   "metadata": {
    "slideshow": {
     "slide_type": "subslide"
    }
   },
   "source": [
    "## __`zip(*iterables)`__\n",
    "* builtin function which matches up each item in an iterable with the corresponding item in the other iterable(s)\n",
    "* technically creates an iterator that aggregates elements from each iterable\n",
    "* why is it called __`zip`__?"
   ]
  },
  {
   "cell_type": "code",
   "execution_count": null,
   "metadata": {},
   "outputs": [],
   "source": [
    "stooges = ['Larry', 'Moe', 'Curly']\n",
    "marxbros = ['Groucho', 'Harpo', 'Chico']\n",
    "\n",
    "for stooge, marx in zip(stooges, marxbros):\n",
    "    print(stooge, marx)"
   ]
  },
  {
   "cell_type": "code",
   "execution_count": null,
   "metadata": {},
   "outputs": [],
   "source": [
    "stooges = ['Larry', 'Moe', 'Curly']\n",
    "marxbros = ['Groucho', 'Harpo', 'Chico', 'Zeppo']\n",
    "for stooge, marx in zip(stooges, marxbros):\n",
    "    print(stooge, marx)"
   ]
  },
  {
   "cell_type": "code",
   "execution_count": null,
   "metadata": {},
   "outputs": [],
   "source": [
    "zip(stooges, marxbros)"
   ]
  },
  {
   "cell_type": "code",
   "execution_count": null,
   "metadata": {},
   "outputs": [],
   "source": [
    "import itertools # module that helps with iteration\n",
    "stooges = ['Larry', 'Moe', 'Curly']\n",
    "marxbros = ['Groucho', 'Harpo', 'Chico', 'Zeppo']\n",
    "\n",
    "for stooge, marx in itertools.zip_longest(stooges, marxbros):\n",
    "    print(stooge, marx)"
   ]
  },
  {
   "cell_type": "raw",
   "metadata": {},
   "source": []
  },
  {
   "cell_type": "code",
   "execution_count": null,
   "metadata": {},
   "outputs": [],
   "source": [
    "stooges = ['Larry', 'Moe', 'Curly']\n",
    "marxbros = ['Groucho', 'Harpo', 'Chico', 'Zeppo']\n",
    "for item in zip(stooges, marxbros):\n",
    "    print(item)"
   ]
  },
  {
   "cell_type": "markdown",
   "metadata": {
    "slideshow": {
     "slide_type": "subslide"
    }
   },
   "source": [
    "## List Comprehensions (\"listcomps\")\n",
    "* quick way to build a list\n",
    "* more readable/faster\n",
    "* which is easier to read?"
   ]
  },
  {
   "cell_type": "code",
   "execution_count": null,
   "metadata": {},
   "outputs": [],
   "source": [
    "string = 'ABCabc*'\n",
    "ascii_codes = []\n",
    "\n",
    "for char in string:\n",
    "    ascii_codes.append(ord(char))\n",
    "    \n",
    "print(ascii_codes)"
   ]
  },
  {
   "cell_type": "code",
   "execution_count": null,
   "metadata": {
    "scrolled": true
   },
   "outputs": [],
   "source": [
    "string = 'ABCabc*'\n",
    "ascii_codes = [ord(char) for char in string]\n",
    "\n",
    "print(ascii_codes)"
   ]
  },
  {
   "cell_type": "markdown",
   "metadata": {
    "slideshow": {
     "slide_type": "subslide"
    }
   },
   "source": [
    "* listcomps can generate a list from the Cartesian product of two or more iterables"
   ]
  },
  {
   "cell_type": "code",
   "execution_count": null,
   "metadata": {},
   "outputs": [],
   "source": [
    "colors = ['black', 'white']\n",
    "sizes = ['S', 'M', 'L']\n",
    "tshirts = [[color, size] for color in colors for size in sizes]\n",
    "tshirts"
   ]
  },
  {
   "cell_type": "code",
   "execution_count": null,
   "metadata": {},
   "outputs": [],
   "source": [
    "# generate a list of all the consonants in a\n",
    "# string, discarding vowels and spaces\n",
    "string = 'alphabet soup tastes great!'\n",
    "consonants = [char for char in string if char not in 'aeiou ']\n",
    "print(''.join(consonants))"
   ]
  },
  {
   "cell_type": "markdown",
   "metadata": {},
   "source": [
    "## listcomps recap\n",
    "* keep them short\n",
    "* they are not list incomprehensions, so keep them simple\n",
    "* use line breaks since they are ignored inside [] (and (), {}) and you therefore don't need the ugly '\\' line continuation character\n",
    "* note that __`for`__ loops do many things (e.g., scan a sequence to count or select items), computing aggregates (sum, averages) or any number of other processing tasks\n",
    "  * in contrast, listcomps do ONE thing–generate lists!"
   ]
  },
  {
   "cell_type": "markdown",
   "metadata": {
    "slideshow": {
     "slide_type": "subslide"
    }
   },
   "source": [
    "## Lab: List Comprehensions\n",
    "*  Start with Cartesian product example (colors x sizes of t-shirts) and add a third list, __`sleeves = ['short', 'long']`__ then write a new listcomp which generates the Cartesian product colors x sizes x sleeves. __`tshirts`__ should look like this:<pre><b>\n",
    "    [['black', 'S', 'short'],\n",
    "     ['black', 'S', 'long'],\n",
    "     ['black', 'M', 'short'],\n",
    "     ['black', 'M', 'long'],\n",
    "     ['black', 'L', 'short'],\n",
    "     ['black', 'L', 'long'],\n",
    "     ['white', 'S', 'short'],\n",
    "     ['white', 'S', 'long'],\n",
    "     ['white', 'M', 'short'],\n",
    "     ['white', 'M', 'long'],\n",
    "     ['white', 'L', 'short'],\n",
    "     ['white', 'L', 'long']]\n",
    "     \n",
    " </b></pre>\n",
    "* Use a list comprehension to create a list of the squares of the integers from 1 to 25 (i.e, 1, 4, 9, 16, …, 625)\n",
    "* Given a list of words, create a second list which contains all the words from the first list which do not end with a vowel\n",
    "* Use a list comprehension to create a list of the integers from 1 to 100 which are not divisible by 5\n",
    "* Use a list comprehension and __`zip()`__ to create a list of lists, where the list items are name and ID number that you grabbed from separate lists of names and ID numbers\n",
    "  * start with a list of, say, 5 names ['John', 'Mary', 'Edward', 'Linda', 'Dinesh']\n",
    "  * and a list of, say, 5 ID numbers [1003, 2043, 8762, 7862, 1093]\n",
    "  * additional wrinke: do not include any names which are \"unknown\""
   ]
  },
  {
   "cell_type": "code",
   "execution_count": null,
   "metadata": {},
   "outputs": [],
   "source": []
  }
 ],
 "metadata": {
  "kernelspec": {
   "display_name": "Python 3",
   "language": "python",
   "name": "python3"
  },
  "language_info": {
   "codemirror_mode": {
    "name": "ipython",
    "version": 3
   },
   "file_extension": ".py",
   "mimetype": "text/x-python",
   "name": "python",
   "nbconvert_exporter": "python",
   "pygments_lexer": "ipython3",
   "version": "3.8.5"
  }
 },
 "nbformat": 4,
 "nbformat_minor": 4
}
