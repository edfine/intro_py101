{
 "cells": [
  {
   "cell_type": "markdown",
   "metadata": {},
   "source": [
    "\n",
    "1. Make a string with the lyrics to the kids' song, Apples and Bananas.  How lazy can you be?  https://www.youtube.com/watch?v=AyiEF53jvoY"
   ]
  },
  {
   "cell_type": "markdown",
   "metadata": {},
   "source": [
    "2.Write a program (function!) that takes a list and returns a new list that contains all the elements of the first list minus all the duplicates.\n",
    "\n",
    "Extras:\n",
    "\n",
    "Write two different functions to do this - one using a loop and constructing a list, and another using sets.\n",
    "Go back and do the list overlap exercise using sets, and write the solution for that in a different function."
   ]
  },
  {
   "cell_type": "markdown",
   "metadata": {},
   "source": [
    "3. Extra challenge: Use the BeautifulSoup and requests Python packages to print out a list of all the article titles on the New York Times homepage. This requires using modules, which we have not yet covered.  But I wanted to throw it in for those who are looking for something different. "
   ]
  },
  {
   "cell_type": "markdown",
   "metadata": {},
   "source": [
    "4. Write a Python program to unpack a tuple in several variables.\n",
    "5. Write a Python program to get the 4th element and 4th element from last of a tuple.\n",
    "6. Write a Python program to unzip a list of tuples into individual lists.\n",
    "7. Write a Python program to replace last value of tuples in a list. \n",
    "Sample list: [(10, 20, 40), (40, 50, 60), (70, 80, 90)]\n",
    "Expected Output: [(10, 20, 100), (40, 50, 100), (70, 80, 100)]\n",
    "8. Write a Python program to count the elements in a list until an element is a tuple."
   ]
  },
  {
   "cell_type": "markdown",
   "metadata": {},
   "source": [
    "9. Write a Python script to concatenate following dictionaries to create a new one.\n",
    "Sample Dictionary :\n",
    "dic1={1:10, 2:20}\n",
    "dic2={3:30, 4:40}m\n",
    "dic3={5:50,6:60}\n",
    "10. Write a Python script to generate and print a dictionary that contains a number (between 1 and n) in the form (x, x*x).\n",
    "Sample Dictionary ( n = 5) :\n",
    "Expected Output : {1: 1, 2: 4, 3: 9, 4: 16, 5: 25}\n",
    "11. Write a Python program to check a dictionary is empty or not.\n",
    "12. Write a Python program to find the highest 3 values in a dictionary.\n",
    "13. This one is harder: Write a Python program to store a given dictionary in a json file.\n",
    "Original dictionary:\n",
    "{'students': [{'firstName': 'Nikki', 'lastName': 'Roysden'}, {'firstName': 'Mervin', 'lastName': 'Friedland'}, {'firstName': 'Aron ', 'lastName': 'Wilkins'}], 'teachers': [{'firstName': 'Amberly', 'lastName': 'Calico'}, {'firstName': 'Regine', 'lastName': 'Agtarap'}]}\n",
    "<class 'dict'>\n",
    "Json file to dictionary:\n",
    "{'students': [{'firstName': 'Nikki', 'lastName': 'Roysden'}, {'firstName': 'Mervin', 'lastName': 'Friedland'}, {'firstName': 'Aron ', 'lastName': 'Wilkins'}], 'teachers': [{'firstName': 'Amberly', 'lastName': 'Calico'}, {'firstName': 'Regine', 'lastName': 'Agtarap'}]}\n",
    "14. Write a Python program to filter a dictionary based on values, such as those greater than a threshold.\n",
    "Original Dictionary:\n",
    "{'Cierra Vega': 175, 'Alden Cantrell': 180, 'Kierra Gentry': 165, 'Pierre Cox': 190}\n",
    "Values greater than 170:\n",
    "{'Cierra Vega': 175, 'Alden Cantrell': 180, 'Pierre Cox': 190}"
   ]
  },
  {
   "cell_type": "markdown",
   "metadata": {},
   "source": [
    "### Covid-19 Exercise\n",
    "\n",
    "This is an extension exercise that covers material beyond the main scope of the class.  It is fully optional.  \n",
    "***This material is timely and may be disturbing to some people. It is not meant to be unkind.***\n",
    "\n",
    "    From Wikipedia,\n",
    "\n",
    "    Coronavirus disease 2019 (COVID-19) is an infectious disease caused by severe acute respiratory syndrome coronavirus 2 (SARS-CoV-2). The disease was first identified in 2019 in Wuhan, China, and has since spread globally, resulting in the 2019–20 coronavirus pandemic. Common symptoms include fever, cough and shortness of breath. Muscle pain, sputum production and sore throat are less common. The rate of deaths per number of diagnosed cases is on average 3.4%, ranging from 0.2% in those less than 20 to approximately 15% in those over 80 years old.\n",
    "\n",
    "Data Source (Date wise) : 2019 Novel Coronavirus COVID-19 (2019-nCoV) Data Repository by Johns Hopkins CSSE\n",
    "\n",
    "Data Source: https://github.com/CSSEGISandData/COVID-19/tree/master/csse_covid_19_data/csse_covid_19_daily_reports\n",
    "\n",
    "File naming convention\n",
    "\n",
    "MM-DD-YYYY.csv in UTC.\n",
    "\n",
    "Field description\n",
    "\n",
    "Province/State: China - province name; US/Canada/Australia/ - city name, state/province name; Others - name of the event (e.g., \"Diamond Princess\" cruise ship); other countries - blank.\n",
    "Country/Region: country/region name conforming to WHO (will be updated).\n",
    "Last Update: MM/DD/YYYY HH:mm (24 hour format, in UTC).\n",
    "Confirmed: the number of confirmed cases. For Hubei Province: from Feb 13 (GMT +8), we report both clinically diagnosed and lab-confirmed cases. For lab-confirmed cases only (Before Feb 17), please refer to who_covid_19_situation_reports. For Italy, diagnosis standard might be changed since Feb 27 to \"slow the growth of new case numbers.\" (Source)\n",
    "Deaths: the number of deaths.\n",
    "Recovered: the number of recovered cases.\n",
    "Update frequency\n",
    "Files after Feb 1 (UTC): once a day around 23:59 (UTC).\n",
    "Files on and before Feb 1 (UTC): the last updated files before 23:59 (UTC).\n",
    "Using above dataset we have created some exercises on COVID-19 (Spread of the novel coronavirus, Analysis, Visualization, Prediction & Comparisons\n",
    "\n",
    "1. Write a Python program to display first 5 rows from COVID-19 dataset. Also print the dataset information and check the missing values. \n",
    "\n",
    "2. Write a Python program to get the latest number of confirmed, deaths, recovered and active cases of Novel Coronavirus (COVID-19) Country wise. \n",
    "\n",
    "3. Write a Python program to get the latest number of confirmed deaths and recovered people of Novel Coronavirus (COVID-19) cases Country/Region - Province/State wise.\n",
    "\n",
    "4. Write a Python program to get the Chinese province wise cases of confirmed, deaths and recovered cases of Novel Coronavirus (COVID-19). \n",
    "\n",
    "5. Write a Python program to get the latest country wise deaths cases of Novel Coronavirus (COVID-19). \n",
    "\n",
    "6. Write a Python program to list countries with no cases of Novel Coronavirus (COVID-19) recovered. \n",
    "\n",
    "7. Write a Python program to list countries with all cases of Novel Coronavirus (COVID-19) died. \n",
    "\n",
    "8. Write a Python program to list countries with all cases of Novel Coronavirus (COVID-19) recovered. \n",
    "\n",
    "9. Write a Python program to get the top 10 countries data (Last Update, Country/Region, Confirmed, Deaths, Recovered) of Novel Coronavirus (COVID-19). \n",
    "\n",
    "10. Write a Python program to create a plot (lines) of total deaths, confirmed, recovered and active cases Country wise where deaths greater than 150. You can use a package called Matplotlib. \n",
    "\n",
    "11. Write a Python program to visualize the state/province wise death cases of Novel Coronavirus (COVID-19) in USA. \n",
    "\n",
    "12. Write a Python program to visualize the state/province wise Active cases of Novel Coronavirus (COVID-19) in USA. \n",
    "\n",
    "13. Write a Python program to visualize the state/province wise combine number of confirmed, deaths, recovered, active Novel Coronavirus (COVID-19) cases in USA. \n",
    "\n",
    "14. Write a Python program to visualize Worldwide Confirmed Novel Coronavirus (COVID-19) cases over time. "
   ]
  },
  {
   "cell_type": "code",
   "execution_count": null,
   "metadata": {},
   "outputs": [],
   "source": []
  },
  {
   "cell_type": "code",
   "execution_count": null,
   "metadata": {},
   "outputs": [],
   "source": []
  },
  {
   "cell_type": "code",
   "execution_count": null,
   "metadata": {},
   "outputs": [],
   "source": []
  },
  {
   "cell_type": "code",
   "execution_count": null,
   "metadata": {},
   "outputs": [],
   "source": []
  },
  {
   "cell_type": "code",
   "execution_count": null,
   "metadata": {},
   "outputs": [],
   "source": []
  }
 ],
 "metadata": {
  "kernelspec": {
   "display_name": "Python 3",
   "language": "python",
   "name": "python3"
  },
  "language_info": {
   "codemirror_mode": {
    "name": "ipython",
    "version": 3
   },
   "file_extension": ".py",
   "mimetype": "text/x-python",
   "name": "python",
   "nbconvert_exporter": "python",
   "pygments_lexer": "ipython3",
   "version": "3.8.5"
  }
 },
 "nbformat": 4,
 "nbformat_minor": 4
}